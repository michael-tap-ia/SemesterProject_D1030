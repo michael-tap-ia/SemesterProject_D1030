{
 "cells": [
  {
   "cell_type": "code",
   "execution_count": 22,
   "metadata": {},
   "outputs": [],
   "source": [
    "import pandas as pd\n",
    "df = pd.read_csv(\"../Dataset/Life Expectancy Data.csv\")"
   ]
  },
  {
   "cell_type": "code",
   "execution_count": 16,
   "metadata": {},
   "outputs": [
    {
     "name": "stdout",
     "output_type": "stream",
     "text": [
      "Rows:  2938  & Colums:  22\n"
     ]
    }
   ],
   "source": [
    "print(\"Rows: \",df.shape[0],\" & Colums: \", df.shape[1])"
   ]
  },
  {
   "cell_type": "code",
   "execution_count": 17,
   "metadata": {},
   "outputs": [
    {
     "name": "stdout",
     "output_type": "stream",
     "text": [
      "<bound method NDFrame.head of           Country  Year      Status  Life expectancy   Adult Mortality  \\\n",
      "0     Afghanistan  2015  Developing              65.0            263.0   \n",
      "1     Afghanistan  2014  Developing              59.9            271.0   \n",
      "2     Afghanistan  2013  Developing              59.9            268.0   \n",
      "3     Afghanistan  2012  Developing              59.5            272.0   \n",
      "4     Afghanistan  2011  Developing              59.2            275.0   \n",
      "...           ...   ...         ...               ...              ...   \n",
      "2933     Zimbabwe  2004  Developing              44.3            723.0   \n",
      "2934     Zimbabwe  2003  Developing              44.5            715.0   \n",
      "2935     Zimbabwe  2002  Developing              44.8             73.0   \n",
      "2936     Zimbabwe  2001  Developing              45.3            686.0   \n",
      "2937     Zimbabwe  2000  Developing              46.0            665.0   \n",
      "\n",
      "      infant deaths  Alcohol  percentage expenditure  Hepatitis B  Measles   \\\n",
      "0                62     0.01               71.279624         65.0      1154   \n",
      "1                64     0.01               73.523582         62.0       492   \n",
      "2                66     0.01               73.219243         64.0       430   \n",
      "3                69     0.01               78.184215         67.0      2787   \n",
      "4                71     0.01                7.097109         68.0      3013   \n",
      "...             ...      ...                     ...          ...       ...   \n",
      "2933             27     4.36                0.000000         68.0        31   \n",
      "2934             26     4.06                0.000000          7.0       998   \n",
      "2935             25     4.43                0.000000         73.0       304   \n",
      "2936             25     1.72                0.000000         76.0       529   \n",
      "2937             24     1.68                0.000000         79.0      1483   \n",
      "\n",
      "      ...  Polio  Total expenditure  Diphtheria    HIV/AIDS         GDP  \\\n",
      "0     ...    6.0               8.16         65.0        0.1  584.259210   \n",
      "1     ...   58.0               8.18         62.0        0.1  612.696514   \n",
      "2     ...   62.0               8.13         64.0        0.1  631.744976   \n",
      "3     ...   67.0               8.52         67.0        0.1  669.959000   \n",
      "4     ...   68.0               7.87         68.0        0.1   63.537231   \n",
      "...   ...    ...                ...          ...        ...         ...   \n",
      "2933  ...   67.0               7.13         65.0       33.6  454.366654   \n",
      "2934  ...    7.0               6.52         68.0       36.7  453.351155   \n",
      "2935  ...   73.0               6.53         71.0       39.8   57.348340   \n",
      "2936  ...   76.0               6.16         75.0       42.1  548.587312   \n",
      "2937  ...   78.0               7.10         78.0       43.5  547.358879   \n",
      "\n",
      "      Population   thinness  1-19 years   thinness 5-9 years  \\\n",
      "0     33736494.0                   17.2                 17.3   \n",
      "1       327582.0                   17.5                 17.5   \n",
      "2     31731688.0                   17.7                 17.7   \n",
      "3      3696958.0                   17.9                 18.0   \n",
      "4      2978599.0                   18.2                 18.2   \n",
      "...          ...                    ...                  ...   \n",
      "2933  12777511.0                    9.4                  9.4   \n",
      "2934  12633897.0                    9.8                  9.9   \n",
      "2935    125525.0                    1.2                  1.3   \n",
      "2936  12366165.0                    1.6                  1.7   \n",
      "2937  12222251.0                   11.0                 11.2   \n",
      "\n",
      "      Income composition of resources  Schooling  \n",
      "0                               0.479       10.1  \n",
      "1                               0.476       10.0  \n",
      "2                               0.470        9.9  \n",
      "3                               0.463        9.8  \n",
      "4                               0.454        9.5  \n",
      "...                               ...        ...  \n",
      "2933                            0.407        9.2  \n",
      "2934                            0.418        9.5  \n",
      "2935                            0.427       10.0  \n",
      "2936                            0.427        9.8  \n",
      "2937                            0.434        9.8  \n",
      "\n",
      "[2938 rows x 22 columns]>\n"
     ]
    }
   ],
   "source": [
    "print(df.head)"
   ]
  },
  {
   "cell_type": "code",
   "execution_count": 21,
   "metadata": {},
   "outputs": [
    {
     "name": "stdout",
     "output_type": "stream",
     "text": [
      "Index(['Country', 'Year', 'Status', 'Life expectancy ', 'Adult Mortality',\n",
      "       'infant deaths', 'Alcohol', 'percentage expenditure', 'Hepatitis B',\n",
      "       'Measles ', ' BMI ', 'under-five deaths ', 'Polio', 'Total expenditure',\n",
      "       'Diphtheria ', ' HIV/AIDS', 'GDP', 'Population',\n",
      "       ' thinness  1-19 years', ' thinness 5-9 years',\n",
      "       'Income composition of resources', 'Schooling'],\n",
      "      dtype='object')\n"
     ]
    }
   ],
   "source": [
    "print(df.columns)"
   ]
  },
  {
   "cell_type": "code",
   "execution_count": 19,
   "metadata": {},
   "outputs": [
    {
     "name": "stdout",
     "output_type": "stream",
     "text": [
      "Country                            Afghanistan\n",
      "Year                                      2015\n",
      "Status                              Developing\n",
      "Life expectancy                             65\n",
      "Adult Mortality                            263\n",
      "infant deaths                               62\n",
      "Alcohol                                   0.01\n",
      "percentage expenditure                 71.2796\n",
      "Hepatitis B                                 65\n",
      "Measles                                   1154\n",
      " BMI                                      19.1\n",
      "under-five deaths                           83\n",
      "Polio                                        6\n",
      "Total expenditure                         8.16\n",
      "Diphtheria                                  65\n",
      " HIV/AIDS                                  0.1\n",
      "GDP                                    584.259\n",
      "Population                         3.37365e+07\n",
      " thinness  1-19 years                     17.2\n",
      " thinness 5-9 years                       17.3\n",
      "Income composition of resources          0.479\n",
      "Schooling                                 10.1\n",
      "Name: 0, dtype: object\n"
     ]
    }
   ],
   "source": [
    "#example of record:\n",
    "print(df.iloc[0])"
   ]
  }
 ],
 "metadata": {
  "kernelspec": {
   "display_name": "Python 3",
   "language": "python",
   "name": "python3"
  },
  "language_info": {
   "codemirror_mode": {
    "name": "ipython",
    "version": 3
   },
   "file_extension": ".py",
   "mimetype": "text/x-python",
   "name": "python",
   "nbconvert_exporter": "python",
   "pygments_lexer": "ipython3",
   "version": "3.7.8"
  }
 },
 "nbformat": 4,
 "nbformat_minor": 4
}
