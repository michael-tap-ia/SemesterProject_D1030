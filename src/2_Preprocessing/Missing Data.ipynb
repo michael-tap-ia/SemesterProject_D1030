{
 "cells": [
  {
   "cell_type": "markdown",
   "metadata": {},
   "source": [
    "###### Notes:\n",
    "\n",
    "- "
   ]
  },
  {
   "cell_type": "code",
   "execution_count": 30,
   "metadata": {},
   "outputs": [
    {
     "name": "stdout",
     "output_type": "stream",
     "text": [
      "                                 Null_Count\n",
      "Life expectancy                          10\n",
      "Adult Mortality                          10\n",
      "Alcohol                                 194\n",
      "Hepatitis B                             553\n",
      " BMI                                     34\n",
      "Polio                                    19\n",
      "Total expenditure                       226\n",
      "Diphtheria                               19\n",
      "GDP                                     448\n",
      "Population                              652\n",
      " thinness  1-19 years                    34\n",
      " thinness 5-9 years                      34\n",
      "Income composition of resources         167\n",
      "Schooling                               163\n",
      "Original Data:  22\n",
      "After column drop Data:  8\n",
      "Original Data:  2938\n",
      "After row drop Data:  1649\n"
     ]
    }
   ],
   "source": [
    "import pandas as pd\n",
    "import numpy as np\n",
    "import matplotlib \n",
    "from matplotlib import pylab as plt\n",
    "\n",
    "\n",
    "df = pd.read_csv(\"../Life Expectancy Data.csv\")\n",
    "\n",
    "_multi_miss_col = pd.DataFrame(df.isnull().sum(), columns = [\"Null_Count\"])\n",
    "_missing_count = _multi_miss_col.query('Null_Count > 0')\n",
    "_the_col =  _missing_count.index.values.tolist()\n",
    "\n",
    "#Colum Drop:\n",
    "drop_test = df.drop(_the_col, axis=1)\n",
    "print(_missing_count)\n",
    "print(\"Original Data: \", df.shape[1])\n",
    "print(\"After column drop Data: \",drop_test.shape[1])\n",
    "\n",
    "#row Drop\n",
    "droptest2 = df.dropna()\n",
    "\n",
    "print(\"Original Data: \", df.shape[0])\n",
    "print(\"After row drop Data: \",droptest2.shape[0])"
   ]
  },
  {
   "cell_type": "code",
   "execution_count": 4,
   "metadata": {},
   "outputs": [],
   "source": [
    "#Check thee target variable has missing data, If small enough we can drop:\n",
    "\n",
    "target_var = df[\"Life expectancy \"]"
   ]
  },
  {
   "cell_type": "code",
   "execution_count": 16,
   "metadata": {},
   "outputs": [
    {
     "name": "stdout",
     "output_type": "stream",
     "text": [
      "Original Data:  2938\n",
      "After row drop Data:  2928\n",
      "Original Remaining:  99.66 %\n"
     ]
    }
   ],
   "source": [
    "#row Drop\n",
    "droptarget = target_var.dropna()\n",
    "\n",
    "print(\"Original Data: \", target_var.shape[0])\n",
    "print(\"After row drop Data: \",droptarget.shape[0])\n",
    "print(\"Original Remaining: \",round((droptarget.shape[0]/target_var.shape[0])*100,2), \"%\")"
   ]
  },
  {
   "cell_type": "code",
   "execution_count": 21,
   "metadata": {},
   "outputs": [
    {
     "name": "stdout",
     "output_type": "stream",
     "text": [
      "data dimensions: (2938, 22)\n",
      "fraction of missing values in features:\n",
      "Life expectancy                     0.34\n",
      "Adult Mortality                     0.34\n",
      "Alcohol                             6.60\n",
      "Hepatitis B                        18.82\n",
      " BMI                                1.16\n",
      "Polio                               0.65\n",
      "Total expenditure                   7.69\n",
      "Diphtheria                          0.65\n",
      "GDP                                15.25\n",
      "Population                         22.19\n",
      " thinness  1-19 years               1.16\n",
      " thinness 5-9 years                 1.16\n",
      "Income composition of resources     5.68\n",
      "Schooling                           5.55\n",
      "dtype: float64 %\n",
      "data types of the features with missing values:\n",
      "Life expectancy                    float64\n",
      "Adult Mortality                    float64\n",
      "Alcohol                            float64\n",
      "Hepatitis B                        float64\n",
      " BMI                               float64\n",
      "Polio                              float64\n",
      "Total expenditure                  float64\n",
      "Diphtheria                         float64\n",
      "GDP                                float64\n",
      "Population                         float64\n",
      " thinness  1-19 years              float64\n",
      " thinness 5-9 years                float64\n",
      "Income composition of resources    float64\n",
      "Schooling                          float64\n",
      "dtype: object\n",
      "fraction of points with missing values: 43.87 %\n"
     ]
    }
   ],
   "source": [
    "print('data dimensions:',df.shape)\n",
    "perc_missing_per_ftr = df.isnull().sum(axis=0)/df.shape[0]\n",
    "print('fraction of missing values in features:')\n",
    "print(round(perc_missing_per_ftr[perc_missing_per_ftr > 0]*100,2))\n",
    "print('data types of the features with missing values:')\n",
    "print(df[perc_missing_per_ftr[perc_missing_per_ftr > 0].index].dtypes)\n",
    "frac_missing = sum(df.isnull().sum(axis=1)!=0)/df.shape[0]\n",
    "print('fraction of points with missing values:',round(frac_missing*100,2), \"%\")"
   ]
  },
  {
   "cell_type": "code",
   "execution_count": 26,
   "metadata": {},
   "outputs": [
    {
     "data": {
      "text/plain": [
       "Index(['Life expectancy ', 'Adult Mortality', 'Alcohol', 'Hepatitis B',\n",
       "       ' BMI ', 'Polio', 'Total expenditure', 'Diphtheria ', 'GDP',\n",
       "       'Population', ' thinness  1-19 years', ' thinness 5-9 years',\n",
       "       'Income composition of resources', 'Schooling'],\n",
       "      dtype='object')"
      ]
     },
     "execution_count": 26,
     "metadata": {},
     "output_type": "execute_result"
    }
   ],
   "source": [
    "round(perc_missing_per_ftr[perc_missing_per_ftr > 0],2)\n",
    "\n",
    "df[perc_missing_per_ftr[perc_missing_per_ftr > 0].index].columns\n"
   ]
  },
  {
   "cell_type": "code",
   "execution_count": 35,
   "metadata": {},
   "outputs": [
    {
     "data": {
      "text/plain": [
       "Text(0.5, 1.0, 'Missing Data')"
      ]
     },
     "execution_count": 35,
     "metadata": {},
     "output_type": "execute_result"
    },
    {
     "data": {
      "image/png": "[encoded data removed]",
      "text/plain": [
       "<Figure size 432x288 with 1 Axes>"
      ]
     },
     "metadata": {
      "needs_background": "light"
     },
     "output_type": "display_data"
    }
   ],
   "source": [
    "plt.plot(df[perc_missing_per_ftr[perc_missing_per_ftr > 0].index].columns,\n",
    "     round(perc_missing_per_ftr[perc_missing_per_ftr > 0],2))\n",
    "plt.ylabel('Feature')\n",
    "plt.xlabel('Missing Observations (%)')\n",
    "plt.xticks(rotation=90)\n",
    "plt.title('Missing Data')"
   ]
  },
  {
   "cell_type": "code",
   "execution_count": null,
   "metadata": {},
   "outputs": [],
   "source": []
  }
 ],
 "metadata": {
  "kernelspec": {
   "display_name": "Python 3",
   "language": "python",
   "name": "python3"
  },
  "language_info": {
   "codemirror_mode": {
    "name": "ipython",
    "version": 3
   },
   "file_extension": ".py",
   "mimetype": "text/x-python",
   "name": "python",
   "nbconvert_exporter": "python",
   "pygments_lexer": "ipython3",
   "version": "3.8.3"
  }
 },
 "nbformat": 4,
 "nbformat_minor": 4
}
