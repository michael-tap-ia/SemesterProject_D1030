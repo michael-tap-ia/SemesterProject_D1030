{
 "cells": [
  {
   "cell_type": "markdown",
   "metadata": {},
   "source": [
    "###### Notes:\n",
    "\n",
    "- "
   ]
  },
  {
   "cell_type": "code",
   "execution_count": 8,
   "metadata": {},
   "outputs": [
    {
     "name": "stdout",
     "output_type": "stream",
     "text": [
      "                                 Null_Count\n",
      "Life expectancy                          10\n",
      "Adult Mortality                          10\n",
      "Alcohol                                 194\n",
      "Hepatitis B                             553\n",
      " BMI                                     34\n",
      "Polio                                    19\n",
      "Total expenditure                       226\n",
      "Diphtheria                               19\n",
      "GDP                                     448\n",
      "Population                              652\n",
      " thinness  1-19 years                    34\n",
      " thinness 5-9 years                      34\n",
      "Income composition of resources         167\n",
      "Schooling                               163\n",
      "Original Data:  22\n",
      "After column drop Data:  8\n",
      "Original Data:  2938\n",
      "After row drop Data:  1649\n"
     ]
    }
   ],
   "source": [
    "import pandas as pd\n",
    "import numpy as np\n",
    "import matplotlib\n",
    "#from matplotlib import pylab \n",
    "\n",
    "\n",
    "df = pd.read_csv(\"../Life Expectancy Data.csv\")\n",
    "\n",
    "_multi_miss_col = pd.DataFrame(df.isnull().sum(), columns = [\"Null_Count\"])\n",
    "_missing_count = _multi_miss_col.query('Null_Count > 0')\n",
    "_the_col =  _missing_count.index.values.tolist()\n",
    "\n",
    "#Colum Drop:\n",
    "drop_test = df.drop(_the_col, axis=1)\n",
    "print(_missing_count)\n",
    "print(\"Original Data: \", df.shape[1])\n",
    "print(\"After column drop Data: \",drop_test.shape[1])\n",
    "\n",
    "#row Drop\n",
    "droptest2 = df.dropna()\n",
    "\n",
    "print(\"Original Data: \", df.shape[0])\n",
    "print(\"After row drop Data: \",droptest2.shape[0])"
   ]
  },
  {
   "cell_type": "code",
   "execution_count": 4,
   "metadata": {},
   "outputs": [],
   "source": [
    "#Check thee target variable has missing data, If small enough we can drop:\n",
    "\n",
    "target_var = df[\"Life expectancy \"]"
   ]
  },
  {
   "cell_type": "code",
   "execution_count": 16,
   "metadata": {},
   "outputs": [
    {
     "name": "stdout",
     "output_type": "stream",
     "text": [
      "Original Data:  2938\n",
      "After row drop Data:  2928\n",
      "Original Remaining:  99.66 %\n"
     ]
    }
   ],
   "source": [
    "#row Drop\n",
    "droptarget = target_var.dropna()\n",
    "\n",
    "print(\"Original Data: \", target_var.shape[0])\n",
    "print(\"After row drop Data: \",droptarget.shape[0])\n",
    "print(\"Original Remaining: \",round((droptarget.shape[0]/target_var.shape[0])*100,2), \"%\")"
   ]
  },
  {
   "cell_type": "code",
   "execution_count": null,
   "metadata": {},
   "outputs": [],
   "source": []
  }
 ],
 "metadata": {
  "kernelspec": {
   "display_name": "Python 3",
   "language": "python",
   "name": "python3"
  },
  "language_info": {
   "codemirror_mode": {
    "name": "ipython",
    "version": 3
   },
   "file_extension": ".py",
   "mimetype": "text/x-python",
   "name": "python",
   "nbconvert_exporter": "python",
   "pygments_lexer": "ipython3",
   "version": "3.8.3"
  }
 },
 "nbformat": 4,
 "nbformat_minor": 4
}
