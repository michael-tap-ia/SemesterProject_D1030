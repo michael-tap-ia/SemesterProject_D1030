{
 "cells": [
  {
   "cell_type": "markdown",
   "metadata": {},
   "source": [
    "# 6. Tune the hyperparameters of your ML models (aka cross-validation)\n",
    "\n",
    "ML techniques have hyperparameters that you need to optimize to achieve best performance\n",
    "for each ML model, decide which parameters to tune and what values to try\n",
    "loop through each parameter combination\n",
    "train one model for each parameter combination\n",
    "evaluate how well the model performs on the validation set\n",
    "take the parameter combo that gives the best validation score\n",
    "evaluate that model on the test set to report how well the model is expected to perform on previously unseen data"
   ]
  },
  {
   "cell_type": "markdown",
   "metadata": {},
   "source": [
    "Research:\n",
    "\n",
    "    \n",
    "- [XGBoost for TimeSeries](https://analyticsweek.com/content/how-to-use-xgboost-for-time-series-forecasting/?doing_wp_cron=1605207819.7812199592590332031250)"
   ]
  }
 ],
 "metadata": {
  "kernelspec": {
   "display_name": "Python 3",
   "language": "python",
   "name": "python3"
  },
  "language_info": {
   "codemirror_mode": {
    "name": "ipython",
    "version": 3
   },
   "file_extension": ".py",
   "mimetype": "text/x-python",
   "name": "python",
   "nbconvert_exporter": "python",
   "pygments_lexer": "ipython3",
   "version": "3.7.8"
  }
 },
 "nbformat": 4,
 "nbformat_minor": 4
}
