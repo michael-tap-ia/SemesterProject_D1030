{
 "cells": [
  {
   "cell_type": "code",
   "execution_count": 23,
   "metadata": {},
   "outputs": [],
   "source": [
    "import numpy as np\n",
    "import pandas as pd\n",
    "from sklearn.linear_model import LinearRegression\n",
    "from sklearn.model_selection import train_test_split\n",
    "from sklearn.experimental import enable_iterative_imputer\n",
    "from sklearn.impute import IterativeImputer\n",
    "from sklearn.compose import ColumnTransformer\n",
    "from sklearn.pipeline import Pipeline\n",
    "from sklearn.ensemble import RandomForestRegressor\n",
    "from sklearn.impute import SimpleImputer\n",
    "from sklearn.preprocessing import OneHotEncoder\n",
    "from sklearn.preprocessing import OrdinalEncoder\n",
    "from sklearn.preprocessing import StandardScaler\n",
    "from sklearn.metrics import r2_score, mean_squared_error, mean_absolute_error\n",
    "from sklearn.linear_model import BayesianRidge"
   ]
  },
  {
   "cell_type": "code",
   "execution_count": 24,
   "metadata": {},
   "outputs": [],
   "source": [
    "#preprocess:\n",
    "# collect the various features\n",
    "#cat_ftrs = ['Continent','Country','Status'] \n",
    "cat_ftrs = ['Continent','Status'] \n",
    "num_ftrs = ['Adult_Mortality','Alcohol','Percentage_Expenditure','Hepatitis_B_Vaccine','Measles_Vaccine',\n",
    "            'Body_Mass_Index','Deaths_Under_5','Polio_Vaccine','Total_Expenditure','Diphtheria_Vaccine','HIV/AIDS_Cases',\n",
    "            'GDP','Population','Thinness_1-19_Years','Income_Composition_of_Resources','Schooling']\n",
    "\n",
    "random_state = 42\n",
    "\n",
    "\n",
    "df = pd.read_csv(\"Life_Exp_Moded.csv\")\n",
    "df.drop(columns=['Country'],inplace=True)\n",
    "\n",
    "\n",
    "# let's separate the feature matrix X, and target variable y\n",
    "y = df['Life_Expectancy'] \n",
    "X = df.loc[:, df.columns != 'Life_Expectancy'] # all other columns are features\n",
    "\n",
    "X_train_, X_other_, y_train, y_other_ = train_test_split(X, y, train_size=0.6, random_state= random_state)\n",
    "X_val_, X_test_, y_val, y_test = train_test_split(X_other_, y_other_, test_size=0.5, random_state= random_state)\n",
    "\n",
    "# one-hot encoder\n",
    "# We need to replace the NaN with a string first!\n",
    "categorical_transformer = Pipeline(steps=[\n",
    "    ('onehot', OneHotEncoder(sparse=False,handle_unknown='ignore'))])\n",
    "\n",
    "# standard scaler\n",
    "numeric_transformer = Pipeline(steps=[\n",
    "    ('imputer', IterativeImputer(estimator = BayesianRidge())),\n",
    "    ('scaler', StandardScaler())])\n",
    "\n",
    "# collect the transformers\n",
    "preprocessor = ColumnTransformer(\n",
    "    transformers=[\n",
    "        ('num', numeric_transformer, num_ftrs),\n",
    "        ('cat', categorical_transformer, cat_ftrs)])  \n",
    "clf = Pipeline(steps=[('preprocessor', preprocessor)]) # for now we only preprocess \n",
    "                                                       # later on we will add other steps here\n",
    "    \n",
    "X_train = clf.fit_transform(X_train_)\n",
    "X_test = clf.transform(X_test_)\n",
    "X_val = clf.transform(X_val_)\n"
   ]
  },
  {
   "cell_type": "code",
   "execution_count": 25,
   "metadata": {},
   "outputs": [
    {
     "name": "stdout",
     "output_type": "stream",
     "text": [
      "(1756, 24)\n",
      "(586, 24)\n",
      "(586, 24)\n"
     ]
    }
   ],
   "source": [
    "print(X_train.shape)\n",
    "print(X_test.shape)\n",
    "print(X_val.shape)"
   ]
  },
  {
   "cell_type": "code",
   "execution_count": 26,
   "metadata": {},
   "outputs": [
    {
     "data": {
      "text/plain": [
       "array([[ 0.70646413, -1.17790186, -0.38181758, ...,  0.        ,\n",
       "         0.        ,  1.        ],\n",
       "       [-0.62162123,  0.18946944, -0.38181758, ...,  0.        ,\n",
       "         0.        ,  1.        ],\n",
       "       [-0.15241742,  0.05440285, -0.38181758, ...,  0.        ,\n",
       "         0.        ,  1.        ],\n",
       "       ...,\n",
       "       [-0.70114729,  2.22249242,  4.50802667, ...,  0.        ,\n",
       "         1.        ,  0.        ],\n",
       "       [ 2.54351632,  0.98074337,  0.04973175, ...,  0.        ,\n",
       "         0.        ,  1.        ],\n",
       "       [-0.61366862, -1.11470814,  0.42412614, ...,  0.        ,\n",
       "         0.        ,  1.        ]])"
      ]
     },
     "execution_count": 26,
     "metadata": {},
     "output_type": "execute_result"
    }
   ],
   "source": [
    "X_train"
   ]
  },
  {
   "cell_type": "code",
   "execution_count": null,
   "metadata": {},
   "outputs": [],
   "source": []
  },
  {
   "cell_type": "code",
   "execution_count": null,
   "metadata": {},
   "outputs": [],
   "source": []
  },
  {
   "cell_type": "markdown",
   "metadata": {},
   "source": [
    "# Linear Regression"
   ]
  },
  {
   "cell_type": "code",
   "execution_count": 28,
   "metadata": {},
   "outputs": [
    {
     "name": "stdout",
     "output_type": "stream",
     "text": [
      "test R2 Score:  0.8154114140475239\n",
      "val R2 Score:  0.8253924112165916\n",
      "test MSE:  14.012055069670634\n",
      "val MSE:  13.276876456824057\n",
      "test MAE:  2.8153938191897976\n",
      "val MAE:  2.8149318455009382\n",
      "test RMSE:  3.743267966586233\n",
      "val RMSE:  3.6437448396977605\n"
     ]
    }
   ],
   "source": [
    "#Linear Regression\n",
    "\n",
    "linreg = LinearRegression(fit_intercept=True, normalize=True).fit(X_train, y_train)\n",
    "y_new= linreg.predict(X_test)\n",
    "y_newval= linreg.predict(X_val)\n",
    "\n",
    "print(\"test R2 Score: \",r2_score(y_new, y_test))\n",
    "print(\"val R2 Score: \",r2_score(y_newval, y_val))\n",
    "\n",
    "print(\"test MSE: \",mean_squared_error(y_new, y_test))\n",
    "print(\"val MSE: \",mean_squared_error(y_newval, y_val))\n",
    "\n",
    "print(\"test MAE: \",mean_absolute_error(y_new, y_test))\n",
    "print(\"val MAE: \",mean_absolute_error(y_newval, y_val))\n",
    "\n",
    "print(\"test RMSE: \",np.sqrt(mean_squared_error(y_new, y_test)))\n",
    "print(\"val RMSE: \",np.sqrt(mean_squared_error(y_newval, y_val)))"
   ]
  },
  {
   "cell_type": "code",
   "execution_count": null,
   "metadata": {},
   "outputs": [],
   "source": [
    "from sklearn.linear_model import Lasso"
   ]
  },
  {
   "cell_type": "code",
   "execution_count": null,
   "metadata": {},
   "outputs": [],
   "source": [
    "from sklearn.linear_model import Ridge"
   ]
  },
  {
   "cell_type": "code",
   "execution_count": null,
   "metadata": {},
   "outputs": [],
   "source": []
  },
  {
   "cell_type": "code",
   "execution_count": null,
   "metadata": {},
   "outputs": [],
   "source": []
  },
  {
   "cell_type": "markdown",
   "metadata": {},
   "source": [
    "# Logistic regression - Not for regression problem"
   ]
  },
  {
   "cell_type": "markdown",
   "metadata": {},
   "source": [
    "# Decision tree in regression - Random Forest Regressor"
   ]
  },
  {
   "cell_type": "code",
   "execution_count": 29,
   "metadata": {},
   "outputs": [
    {
     "name": "stdout",
     "output_type": "stream",
     "text": [
      "test R2 Score:  0.27094636362757774\n",
      "val R2 Score:  0.17401872968447063\n",
      "test MSE:  36.83657938639859\n",
      "val MSE:  42.62033548189617\n",
      "test MAE:  4.698183789698394\n",
      "val MAE:  5.008991737445724\n",
      "test RMSE:  6.069314573030351\n",
      "val RMSE:  6.528425191567731\n"
     ]
    }
   ],
   "source": [
    "#A decision tree in regression -max_depth = 1\n",
    "from sklearn.ensemble import RandomForestRegressor\n",
    "\n",
    "RFreg = RandomForestRegressor(n_estimators=1,max_depth=1,random_state=random_state)\n",
    "RFreg.fit(X_train, y_train)\n",
    "y_new = RFreg.predict(X_test)\n",
    "y_newval= RFreg.predict(X_val)\n",
    "\n",
    "print(\"test R2 Score: \",r2_score(y_new, y_test))\n",
    "print(\"val R2 Score: \",r2_score(y_newval, y_val))\n",
    "\n",
    "print(\"test MSE: \",mean_squared_error(y_new, y_test))\n",
    "print(\"val MSE: \",mean_squared_error(y_newval, y_val))\n",
    "\n",
    "print(\"test MAE: \",mean_absolute_error(y_new, y_test))\n",
    "print(\"val MAE: \",mean_absolute_error(y_newval, y_val))\n",
    "\n",
    "print(\"test RMSE: \",np.sqrt(mean_squared_error(y_new, y_test)))\n",
    "print(\"val RMSE: \",np.sqrt(mean_squared_error(y_newval, y_val)))"
   ]
  },
  {
   "cell_type": "code",
   "execution_count": 30,
   "metadata": {},
   "outputs": [
    {
     "name": "stdout",
     "output_type": "stream",
     "text": [
      "test R2 Score:  0.7965684522750858\n",
      "val R2 Score:  0.7806072407795397\n",
      "test MSE:  15.20253542018583\n",
      "val MSE:  16.22205725009507\n",
      "test MAE:  2.7947596653063562\n",
      "val MAE:  2.9170863590371603\n",
      "test RMSE:  3.899042885143203\n",
      "val RMSE:  4.02766151136054\n"
     ]
    }
   ],
   "source": [
    "#A decision tree in regression -max_depth = 3\n",
    "RFreg = RandomForestRegressor(n_estimators=1,max_depth=3,random_state=random_state)\n",
    "RFreg.fit(X_train, y_train)\n",
    "y_new = RFreg.predict(X_test)\n",
    "y_newval= RFreg.predict(X_val)\n",
    "\n",
    "print(\"test R2 Score: \",r2_score(y_new, y_test))\n",
    "print(\"val R2 Score: \",r2_score(y_newval, y_val))\n",
    "\n",
    "print(\"test MSE: \",mean_squared_error(y_new, y_test))\n",
    "print(\"val MSE: \",mean_squared_error(y_newval, y_val))\n",
    "\n",
    "print(\"test MAE: \",mean_absolute_error(y_new, y_test))\n",
    "print(\"val MAE: \",mean_absolute_error(y_newval, y_val))\n",
    "\n",
    "print(\"test RMSE: \",np.sqrt(mean_squared_error(y_new, y_test)))\n",
    "print(\"val RMSE: \",np.sqrt(mean_squared_error(y_newval, y_val)))"
   ]
  },
  {
   "cell_type": "code",
   "execution_count": 31,
   "metadata": {},
   "outputs": [
    {
     "name": "stdout",
     "output_type": "stream",
     "text": [
      "test R2 Score:  0.883548510013391\n",
      "val R2 Score:  0.8899913897216133\n",
      "test MSE:  9.443251749035818\n",
      "val MSE:  8.945190392307575\n",
      "test MAE:  2.1602709758391483\n",
      "val MAE:  2.091189417590858\n",
      "test RMSE:  3.0729874306667475\n",
      "val RMSE:  2.990851115035246\n"
     ]
    }
   ],
   "source": [
    "#A decision tree in regression -max_depth = 6\n",
    "RFreg = RandomForestRegressor(n_estimators=1,max_depth=6,random_state=random_state)\n",
    "RFreg.fit(X_train, y_train)\n",
    "y_new = RFreg.predict(X_test)\n",
    "y_newval= RFreg.predict(X_val)\n",
    "\n",
    "print(\"test R2 Score: \",r2_score(y_new, y_test))\n",
    "print(\"val R2 Score: \",r2_score(y_newval, y_val))\n",
    "\n",
    "print(\"test MSE: \",mean_squared_error(y_new, y_test))\n",
    "print(\"val MSE: \",mean_squared_error(y_newval, y_val))\n",
    "\n",
    "print(\"test MAE: \",mean_absolute_error(y_new, y_test))\n",
    "print(\"val MAE: \",mean_absolute_error(y_newval, y_val))\n",
    "\n",
    "print(\"test RMSE: \",np.sqrt(mean_squared_error(y_new, y_test)))\n",
    "print(\"val RMSE: \",np.sqrt(mean_squared_error(y_newval, y_val)))"
   ]
  },
  {
   "cell_type": "code",
   "execution_count": 32,
   "metadata": {},
   "outputs": [
    {
     "name": "stdout",
     "output_type": "stream",
     "text": [
      "test R2 Score:  0.8895122993734117\n",
      "val R2 Score:  0.889648574326114\n",
      "test MSE:  9.46542489165339\n",
      "val MSE:  9.724703450844194\n",
      "test MAE:  2.0309390513438337\n",
      "val MAE:  1.9905474311852933\n",
      "test RMSE:  3.076593065657756\n",
      "val RMSE:  3.1184456786745853\n"
     ]
    }
   ],
   "source": [
    "#A decision tree in regression -max_depth = 10\n",
    "RFreg = RandomForestRegressor(n_estimators=1,max_depth=10,random_state=random_state)\n",
    "RFreg.fit(X_train, y_train)\n",
    "y_new = RFreg.predict(X_test)\n",
    "y_newval= RFreg.predict(X_val)\n",
    "\n",
    "print(\"test R2 Score: \",r2_score(y_new, y_test))\n",
    "print(\"val R2 Score: \",r2_score(y_newval, y_val))\n",
    "\n",
    "print(\"test MSE: \",mean_squared_error(y_new, y_test))\n",
    "print(\"val MSE: \",mean_squared_error(y_newval, y_val))\n",
    "\n",
    "print(\"test MAE: \",mean_absolute_error(y_new, y_test))\n",
    "print(\"val MAE: \",mean_absolute_error(y_newval, y_val))\n",
    "\n",
    "print(\"test RMSE: \",np.sqrt(mean_squared_error(y_new, y_test)))\n",
    "print(\"val RMSE: \",np.sqrt(mean_squared_error(y_newval, y_val)))"
   ]
  },
  {
   "cell_type": "markdown",
   "metadata": {},
   "source": [
    "# SVM - SVR"
   ]
  },
  {
   "cell_type": "code",
   "execution_count": 33,
   "metadata": {},
   "outputs": [
    {
     "name": "stdout",
     "output_type": "stream",
     "text": [
      "test R2 Score:  -5.601862507947571\n",
      "val R2 Score:  -6.339491565299282\n",
      "test MSE:  63.24011129350475\n",
      "val MSE:  66.44572783549087\n",
      "test MAE:  5.5799081319661585\n",
      "val MAE:  5.497483396736803\n",
      "test RMSE:  7.952365138341219\n",
      "val RMSE:  8.15142489602222\n"
     ]
    }
   ],
   "source": [
    "# SVM - SVR - gamma = 1\n",
    "from sklearn.svm import SVR\n",
    "\n",
    "svr_reg = SVR(gamma = 1, C = 1)\n",
    "svr_reg.fit(X_train, y_train)\n",
    "y_new = svr_reg.predict(X_test)\n",
    "y_newval= svr_reg.predict(X_val)\n",
    "\n",
    "print(\"test R2 Score: \",r2_score(y_new, y_test))\n",
    "print(\"val R2 Score: \",r2_score(y_newval, y_val))\n",
    "\n",
    "print(\"test MSE: \",mean_squared_error(y_new, y_test))\n",
    "print(\"val MSE: \",mean_squared_error(y_newval, y_val))\n",
    "\n",
    "print(\"test MAE: \",mean_absolute_error(y_new, y_test))\n",
    "print(\"val MAE: \",mean_absolute_error(y_newval, y_val))\n",
    "\n",
    "print(\"test RMSE: \",np.sqrt(mean_squared_error(y_new, y_test)))\n",
    "print(\"val RMSE: \",np.sqrt(mean_squared_error(y_newval, y_val)))"
   ]
  },
  {
   "cell_type": "code",
   "execution_count": 34,
   "metadata": {},
   "outputs": [
    {
     "name": "stdout",
     "output_type": "stream",
     "text": [
      "test R2 Score:  -5.601862507947571\n",
      "val R2 Score:  -6.339491565299282\n",
      "test MSE:  63.24011129350475\n",
      "val MSE:  66.44572783549087\n",
      "test MAE:  5.5799081319661585\n",
      "val MAE:  5.497483396736803\n",
      "test RMSE:  7.952365138341219\n",
      "val RMSE:  8.15142489602222\n"
     ]
    }
   ],
   "source": [
    "# SVM - SVR - gamma = 1\n",
    "from sklearn.svm import SVR\n",
    "\n",
    "svr_reg = SVR(gamma = 1, C = 1)\n",
    "svr_reg.fit(X_train, y_train)\n",
    "y_new = svr_reg.predict(X_test)\n",
    "y_newval= svr_reg.predict(X_val)\n",
    "\n",
    "print(\"test R2 Score: \",r2_score(y_new, y_test))\n",
    "print(\"val R2 Score: \",r2_score(y_newval, y_val))\n",
    "\n",
    "print(\"test MSE: \",mean_squared_error(y_new, y_test))\n",
    "print(\"val MSE: \",mean_squared_error(y_newval, y_val))\n",
    "\n",
    "print(\"test MAE: \",mean_absolute_error(y_new, y_test))\n",
    "print(\"val MAE: \",mean_absolute_error(y_newval, y_val))\n",
    "\n",
    "print(\"test RMSE: \",np.sqrt(mean_squared_error(y_new, y_test)))\n",
    "print(\"val RMSE: \",np.sqrt(mean_squared_error(y_newval, y_val)))"
   ]
  },
  {
   "cell_type": "code",
   "execution_count": 35,
   "metadata": {},
   "outputs": [
    {
     "name": "stdout",
     "output_type": "stream",
     "text": [
      "test R2 Score:  -4.7356487278558115e+29\n",
      "val R2 Score:  -4.860522381101735e+29\n",
      "test MSE:  95.63566444198575\n",
      "val MSE:  98.1574677863143\n",
      "test MAE:  7.432881766354606\n",
      "val MAE:  7.385269891509523\n",
      "test RMSE:  9.779348876177071\n",
      "val RMSE:  9.907445068548919\n"
     ]
    }
   ],
   "source": [
    "# SVM - SVR - gamma = 1000000\n",
    "from sklearn.svm import SVR\n",
    "\n",
    "svr_reg = SVR(gamma = 1000000, C = 1)\n",
    "svr_reg.fit(X_train, y_train)\n",
    "y_new = svr_reg.predict(X_test)\n",
    "y_newval= svr_reg.predict(X_val)\n",
    "\n",
    "print(\"test R2 Score: \",r2_score(y_new, y_test))\n",
    "print(\"val R2 Score: \",r2_score(y_newval, y_val))\n",
    "\n",
    "print(\"test MSE: \",mean_squared_error(y_new, y_test))\n",
    "print(\"val MSE: \",mean_squared_error(y_newval, y_val))\n",
    "\n",
    "print(\"test MAE: \",mean_absolute_error(y_new, y_test))\n",
    "print(\"val MAE: \",mean_absolute_error(y_newval, y_val))\n",
    "\n",
    "print(\"test RMSE: \",np.sqrt(mean_squared_error(y_new, y_test)))\n",
    "print(\"val RMSE: \",np.sqrt(mean_squared_error(y_newval, y_val)))"
   ]
  },
  {
   "cell_type": "code",
   "execution_count": 36,
   "metadata": {},
   "outputs": [
    {
     "name": "stdout",
     "output_type": "stream",
     "text": [
      "test R2 Score:  -14599870.832839217\n",
      "val R2 Score:  -10552965.847904604\n",
      "test MSE:  95.63427418655348\n",
      "val MSE:  98.15180385645648\n",
      "test MAE:  7.432694399372228\n",
      "val MAE:  7.385086709607792\n",
      "test RMSE:  9.779277794732772\n",
      "val RMSE:  9.90715922232284\n"
     ]
    }
   ],
   "source": [
    "# SVM - SVR - gamma = 1000\n",
    "from sklearn.svm import SVR\n",
    "\n",
    "svr_reg = SVR(gamma = 1000, C = 1)\n",
    "svr_reg.fit(X_train, y_train)\n",
    "y_new = svr_reg.predict(X_test)\n",
    "y_newval= svr_reg.predict(X_val)\n",
    "\n",
    "print(\"test R2 Score: \",r2_score(y_new, y_test))\n",
    "print(\"val R2 Score: \",r2_score(y_newval, y_val))\n",
    "\n",
    "print(\"test MSE: \",mean_squared_error(y_new, y_test))\n",
    "print(\"val MSE: \",mean_squared_error(y_newval, y_val))\n",
    "\n",
    "print(\"test MAE: \",mean_absolute_error(y_new, y_test))\n",
    "print(\"val MAE: \",mean_absolute_error(y_newval, y_val))\n",
    "\n",
    "print(\"test RMSE: \",np.sqrt(mean_squared_error(y_new, y_test)))\n",
    "print(\"val RMSE: \",np.sqrt(mean_squared_error(y_newval, y_val)))"
   ]
  },
  {
   "cell_type": "code",
   "execution_count": 37,
   "metadata": {},
   "outputs": [
    {
     "name": "stdout",
     "output_type": "stream",
     "text": [
      "test R2 Score:  0.3578297306865652\n",
      "val R2 Score:  0.38485900090728553\n",
      "test MSE:  23.752434447515526\n",
      "val MSE:  23.048948116530912\n",
      "test MAE:  3.666503026212095\n",
      "val MAE:  3.633249344688894\n",
      "test RMSE:  4.873646935049309\n",
      "val RMSE:  4.800932004989335\n"
     ]
    }
   ],
   "source": [
    "# SVM - SVR - gamma = 0.001\n",
    "from sklearn.svm import SVR\n",
    "\n",
    "svr_reg = SVR(gamma = 0.001, C = 1)\n",
    "svr_reg.fit(X_train, y_train)\n",
    "y_new = svr_reg.predict(X_test)\n",
    "y_newval= svr_reg.predict(X_val)\n",
    "\n",
    "print(\"test R2 Score: \",r2_score(y_new, y_test))\n",
    "print(\"val R2 Score: \",r2_score(y_newval, y_val))\n",
    "\n",
    "print(\"test MSE: \",mean_squared_error(y_new, y_test))\n",
    "print(\"val MSE: \",mean_squared_error(y_newval, y_val))\n",
    "\n",
    "print(\"test MAE: \",mean_absolute_error(y_new, y_test))\n",
    "print(\"val MAE: \",mean_absolute_error(y_newval, y_val))\n",
    "\n",
    "print(\"test RMSE: \",np.sqrt(mean_squared_error(y_new, y_test)))\n",
    "print(\"val RMSE: \",np.sqrt(mean_squared_error(y_newval, y_val)))"
   ]
  },
  {
   "cell_type": "code",
   "execution_count": 38,
   "metadata": {},
   "outputs": [
    {
     "name": "stdout",
     "output_type": "stream",
     "text": [
      "test R2 Score:  0.7614474618009348\n",
      "val R2 Score:  0.7854006338094071\n",
      "test MSE:  14.68025262256299\n",
      "val MSE:  13.584331648746216\n",
      "test MAE:  2.6985595712159047\n",
      "val MAE:  2.6839598040865584\n",
      "test RMSE:  3.8314817789678957\n",
      "val RMSE:  3.6856928315781032\n"
     ]
    }
   ],
   "source": [
    "# SVM - SVR - gamma = 0.01\n",
    "from sklearn.svm import SVR\n",
    "\n",
    "svr_reg = SVR(gamma = 0.01, C = 1)\n",
    "svr_reg.fit(X_train, y_train)\n",
    "y_new = svr_reg.predict(X_test)\n",
    "y_newval= svr_reg.predict(X_val)\n",
    "\n",
    "print(\"test R2 Score: \",r2_score(y_new, y_test))\n",
    "print(\"val R2 Score: \",r2_score(y_newval, y_val))\n",
    "\n",
    "print(\"test MSE: \",mean_squared_error(y_new, y_test))\n",
    "print(\"val MSE: \",mean_squared_error(y_newval, y_val))\n",
    "\n",
    "print(\"test MAE: \",mean_absolute_error(y_new, y_test))\n",
    "print(\"val MAE: \",mean_absolute_error(y_newval, y_val))\n",
    "\n",
    "print(\"test RMSE: \",np.sqrt(mean_squared_error(y_new, y_test)))\n",
    "print(\"val RMSE: \",np.sqrt(mean_squared_error(y_newval, y_val)))"
   ]
  },
  {
   "cell_type": "code",
   "execution_count": 39,
   "metadata": {},
   "outputs": [
    {
     "name": "stdout",
     "output_type": "stream",
     "text": [
      "test R2 Score:  0.6764834426367482\n",
      "val R2 Score:  0.6910985785876036\n",
      "test MSE:  18.00306469097356\n",
      "val MSE:  17.109901916580384\n",
      "test MAE:  2.6451426736111596\n",
      "val MAE:  2.552433085375952\n",
      "test RMSE:  4.243001849041968\n",
      "val RMSE:  4.136411719906564\n"
     ]
    }
   ],
   "source": [
    "# SVM - SVR - gamma = 0.1\n",
    "from sklearn.svm import SVR\n",
    "\n",
    "svr_reg = SVR(gamma = 0.1, C = 1)\n",
    "svr_reg.fit(X_train, y_train)\n",
    "y_new = svr_reg.predict(X_test)\n",
    "y_newval= svr_reg.predict(X_val)\n",
    "\n",
    "print(\"test R2 Score: \",r2_score(y_new, y_test))\n",
    "print(\"val R2 Score: \",r2_score(y_newval, y_val))\n",
    "\n",
    "print(\"test MSE: \",mean_squared_error(y_new, y_test))\n",
    "print(\"val MSE: \",mean_squared_error(y_newval, y_val))\n",
    "\n",
    "print(\"test MAE: \",mean_absolute_error(y_new, y_test))\n",
    "print(\"val MAE: \",mean_absolute_error(y_newval, y_val))\n",
    "\n",
    "print(\"test RMSE: \",np.sqrt(mean_squared_error(y_new, y_test)))\n",
    "print(\"val RMSE: \",np.sqrt(mean_squared_error(y_newval, y_val)))"
   ]
  },
  {
   "cell_type": "code",
   "execution_count": 40,
   "metadata": {},
   "outputs": [
    {
     "name": "stdout",
     "output_type": "stream",
     "text": [
      "test R2 Score:  0.7439946150011287\n",
      "val R2 Score:  0.7685121911488789\n",
      "test MSE:  15.355195220171646\n",
      "val MSE:  13.97721620937631\n",
      "test MAE:  2.5420749508952185\n",
      "val MAE:  2.4632299302089766\n",
      "test RMSE:  3.9185705582739794\n",
      "val RMSE:  3.7386115349653957\n"
     ]
    }
   ],
   "source": [
    "# SVM - SVR - default\n",
    "from sklearn.svm import SVR\n",
    "\n",
    "svr_reg = SVR()\n",
    "svr_reg.fit(X_train, y_train)\n",
    "y_new = svr_reg.predict(X_test)\n",
    "y_newval= svr_reg.predict(X_val)\n",
    "\n",
    "print(\"test R2 Score: \",r2_score(y_new, y_test))\n",
    "print(\"val R2 Score: \",r2_score(y_newval, y_val))\n",
    "\n",
    "print(\"test MSE: \",mean_squared_error(y_new, y_test))\n",
    "print(\"val MSE: \",mean_squared_error(y_newval, y_val))\n",
    "\n",
    "print(\"test MAE: \",mean_absolute_error(y_new, y_test))\n",
    "print(\"val MAE: \",mean_absolute_error(y_newval, y_val))\n",
    "\n",
    "print(\"test RMSE: \",np.sqrt(mean_squared_error(y_new, y_test)))\n",
    "print(\"val RMSE: \",np.sqrt(mean_squared_error(y_newval, y_val)))"
   ]
  },
  {
   "cell_type": "markdown",
   "metadata": {},
   "source": [
    "# XGBoost - XGBRegressor"
   ]
  },
  {
   "cell_type": "code",
   "execution_count": 91,
   "metadata": {},
   "outputs": [
    {
     "name": "stdout",
     "output_type": "stream",
     "text": [
      "Collecting xgboostNote: you may need to restart the kernel to use updated packages.\n",
      "\n",
      "  Downloading xgboost-1.2.1-py3-none-win_amd64.whl (86.5 MB)\n",
      "Requirement already satisfied: numpy in c:\\users\\mtapi\\anaconda3\\lib\\site-packages (from xgboost) (1.18.5)\n",
      "Requirement already satisfied: scipy in c:\\users\\mtapi\\anaconda3\\lib\\site-packages (from xgboost) (1.5.0)\n",
      "Installing collected packages: xgboost\n",
      "Successfully installed xgboost-1.2.1\n"
     ]
    }
   ],
   "source": [
    "pip install xgboost"
   ]
  },
  {
   "cell_type": "code",
   "execution_count": 41,
   "metadata": {},
   "outputs": [
    {
     "name": "stdout",
     "output_type": "stream",
     "text": [
      "test R2 Score:  0.9522768447799969\n",
      "val R2 Score:  0.9560666008454037\n",
      "test MSE:  4.12772280827457\n",
      "val MSE:  3.770129404138808\n",
      "test MAE:  1.3428121091562735\n",
      "val MAE:  1.3111716677304421\n",
      "test RMSE:  2.0316797996422986\n",
      "val RMSE:  1.941682106869919\n"
     ]
    }
   ],
   "source": [
    "#Xgboostregressor:\n",
    "\n",
    "import xgboost as xgb\n",
    "\n",
    "xboost = xgb.XGBRegressor(n_estimators = 200)\n",
    "xboost.fit(X_train, y_train)\n",
    "y_new = xboost.predict(X_test)\n",
    "y_newval= xboost.predict(X_val)\n",
    "\n",
    "print(\"test R2 Score: \",r2_score(y_new, y_test))\n",
    "print(\"val R2 Score: \",r2_score(y_newval, y_val))\n",
    "\n",
    "print(\"test MSE: \",mean_squared_error(y_new, y_test))\n",
    "print(\"val MSE: \",mean_squared_error(y_newval, y_val))\n",
    "\n",
    "print(\"test MAE: \",mean_absolute_error(y_new, y_test))\n",
    "print(\"val MAE: \",mean_absolute_error(y_newval, y_val))\n",
    "\n",
    "print(\"test RMSE: \",np.sqrt(mean_squared_error(y_new, y_test)))\n",
    "print(\"val RMSE: \",np.sqrt(mean_squared_error(y_newval, y_val)))"
   ]
  },
  {
   "cell_type": "markdown",
   "metadata": {},
   "source": [
    "# Final Check:"
   ]
  },
  {
   "cell_type": "code",
   "execution_count": 47,
   "metadata": {},
   "outputs": [],
   "source": [
    "from sklearn.model_selection import KFold\n",
    "from sklearn.model_selection import train_test_split\n",
    "from sklearn.preprocessing import StandardScaler\n",
    "from sklearn.linear_model import Lasso\n",
    "from sklearn.metrics import mean_squared_error\n",
    "from sklearn.metrics import mean_absolute_error\n",
    "from sklearn.metrics import r2_score\n",
    "import pandas as pd\n",
    "from sklearn.pipeline import make_pipeline\n",
    "from sklearn.model_selection import GridSearchCV\n",
    "from sklearn.model_selection import TimeSeriesSplit\n",
    "import math"
   ]
  },
  {
   "cell_type": "code",
   "execution_count": 64,
   "metadata": {},
   "outputs": [],
   "source": [
    "import pandas as pd\n",
    "import numpy as np\n",
    "from sklearn.linear_model import Lasso, Ridge, ElasticNet\n",
    "from sklearn.ensemble import RandomForestRegressor\n",
    "from sklearn.svm import SVR\n",
    "from sklearn.neighbors import KNeighborsRegressor\n",
    "from sklearn.model_selection import train_test_split\n",
    "from sklearn.preprocessing import StandardScaler\n",
    "from sklearn.metrics import mean_squared_error\n",
    "from sklearn.model_selection import train_test_split, KFold, GridSearchCV\n",
    "from sklearn.preprocessing import OneHotEncoder, StandardScaler\n",
    "from sklearn.metrics import make_scorer\n",
    "from sklearn.pipeline import make_pipeline, Pipeline\n",
    "from sklearn.compose import ColumnTransformer"
   ]
  },
  {
   "cell_type": "code",
   "execution_count": 97,
   "metadata": {},
   "outputs": [],
   "source": [
    "def MLpipe_KFold_RMSE(X, y, preprocessor, ML_algo, param_grid):\n",
    "    '''\n",
    "    This function splits the data to other/test (80/20) and then applies KFold with 4 folds to other.\n",
    "    The RMSE is minimized in cross-validation.\n",
    "    '''\n",
    "    \n",
    "    test_scores = []\n",
    "    best_models = []\n",
    "    r2_scores = []\n",
    "    # loop through 10 random states (2 points)\n",
    "    for state in range(10):\n",
    "        # split data to other/test 80/20, and the use KFold with 4 folds (2 points)\n",
    "        X_other, X_test, y_other, y_test = train_test_split(X, y, test_size=0.2, random_state=42+state)\n",
    "        #kf = KFold(n_splits=4, shuffle=True, random_state=42+state)\n",
    "        kf = TimeSeriesSplit(n_splits=4)\n",
    "        # preprocess the data (1 point)\n",
    "        pipe = Pipeline(steps=[('preprocessor', preprocessor),\n",
    "                               ('regressor', ML_algo)])\n",
    "        # loop through the hyperparameter combinations or use GridSearchCV (2 points)\n",
    "        grid = GridSearchCV(pipe, param_grid=param_grid, \n",
    "                            scoring=make_scorer(mean_squared_error, greater_is_better=False, squared=False),\n",
    "                            cv=kf, return_train_score=True, n_jobs=-1)\n",
    "        # for each combination, calculate the train and validation scores using the evaluation metric\n",
    "        grid.fit(X_other, y_other)\n",
    "        # find which hyperparameter combination gives the best validation score (1 point)\n",
    "        best_param = grid.best_params_\n",
    "        print('best model parameters:',best_param)\n",
    "        print('validation RMSE score:',grid.best_score_)\n",
    "        # calculate the test score (1 point)\n",
    "        test_score = mean_squared_error(y_test, grid.predict(X_test), squared=False)\n",
    "        print('test score:',test_score)\n",
    "        # append the test score and the best model to the lists (1 point)\n",
    "        test_scores.append(test_score)\n",
    "        r2_scr = r2_score(y_test,grid.predict(X_test))\n",
    "        print('test R2 score: ', r2_scr)\n",
    "        #print('test R2 score: ', r2_scr)\n",
    "        r2_scores.append(r2_scr)\n",
    "        best_models.append(grid.best_estimator_)\n",
    "        print(\"-------\\n\")\n",
    "    return best_models, test_scores, r2_scores"
   ]
  },
  {
   "cell_type": "code",
   "execution_count": 98,
   "metadata": {},
   "outputs": [
    {
     "name": "stdout",
     "output_type": "stream",
     "text": [
      "best model parameters: {'regressor__alpha': 0.01}\n",
      "validation RMSE score: -3.810311400139032\n",
      "test score: 3.7425292221958393\n",
      "test R2 score:  0.8420925076872816\n",
      "-------\n",
      "\n",
      "best model parameters: {'regressor__alpha': 0.01}\n",
      "validation RMSE score: -3.842097075438871\n",
      "test score: 3.5505132124430947\n",
      "test R2 score:  0.8584943323463183\n",
      "-------\n",
      "\n",
      "best model parameters: {'regressor__alpha': 0.01}\n",
      "validation RMSE score: -3.708303886237991\n",
      "test score: 3.7300348965960017\n",
      "test R2 score:  0.8454037093932208\n",
      "-------\n",
      "\n",
      "best model parameters: {'regressor__alpha': 0.001}\n",
      "validation RMSE score: -3.7168378844138954\n",
      "test score: 3.9323953242041427\n",
      "test R2 score:  0.8310114118274086\n",
      "-------\n",
      "\n",
      "best model parameters: {'regressor__alpha': 0.001}\n",
      "validation RMSE score: -3.858359660224713\n",
      "test score: 3.5279268560436896\n",
      "test R2 score:  0.8597656953013546\n",
      "-------\n",
      "\n",
      "best model parameters: {'regressor__alpha': 0.01}\n",
      "validation RMSE score: -3.7716830217801487\n",
      "test score: 3.8150832487385986\n",
      "test R2 score:  0.8497996401214396\n",
      "-------\n",
      "\n",
      "best model parameters: {'regressor__alpha': 0.001}\n",
      "validation RMSE score: -3.776604976124295\n",
      "test score: 3.6382893374204928\n",
      "test R2 score:  0.8429462536480048\n",
      "-------\n",
      "\n",
      "best model parameters: {'regressor__alpha': 0.01}\n",
      "validation RMSE score: -3.772359913723019\n",
      "test score: 3.7205562495613798\n",
      "test R2 score:  0.8474165404413574\n",
      "-------\n",
      "\n",
      "best model parameters: {'regressor__alpha': 0.01}\n",
      "validation RMSE score: -3.868639976269721\n",
      "test score: 3.542487869267132\n",
      "test R2 score:  0.852409395039395\n",
      "-------\n",
      "\n",
      "best model parameters: {'regressor__alpha': 0.01}\n",
      "validation RMSE score: -3.70332809590768\n",
      "test score: 3.9796889348679505\n",
      "test R2 score:  0.8272610589099527\n",
      "-------\n",
      "\n",
      "[3.7425292221958393, 3.5505132124430947, 3.7300348965960017, 3.9323953242041427, 3.5279268560436896, 3.8150832487385986, 3.6382893374204928, 3.7205562495613798, 3.542487869267132, 3.9796889348679505]\n",
      "__RSME: \n",
      "Mean:  3.7179505151338326\n",
      "Std:  0.15032051226738677\n",
      "__R2: \n",
      "Mean:  0.8456600544715733\n",
      "Std:  0.0100136226659502\n"
     ]
    }
   ],
   "source": [
    "\n",
    "ML_algo = Lasso()\n",
    "param_grid = {'regressor__alpha': [1e-4, 1e-3, 1e-2, 1e-1, 1e0, 1e1, 1e2]}\n",
    "\n",
    "models, scores, r2_scores = MLpipe_KFold_RMSE(X,y,preprocessor,ML_algo,param_grid)\n",
    "print(scores)\n",
    "\n",
    "\n",
    "print(\"__RSME: \")\n",
    "print(\"Mean: \",np.mean(scores))\n",
    "print(\"Std: \",np.std(scores))\n",
    "print(\"__R2: \")\n",
    "print(\"Mean: \",np.mean(r2_scores))\n",
    "print(\"Std: \",np.std(r2_scores))"
   ]
  },
  {
   "cell_type": "code",
   "execution_count": 99,
   "metadata": {},
   "outputs": [
    {
     "name": "stdout",
     "output_type": "stream",
     "text": [
      "best model parameters: {'regressor__alpha': 10.0}\n",
      "validation RMSE score: -3.80627860456449\n",
      "test score: 3.747409572744655\n",
      "test R2 score:  0.8416804086278815\n",
      "-------\n",
      "\n",
      "best model parameters: {'regressor__alpha': 10.0}\n",
      "validation RMSE score: -3.8425616354664083\n",
      "test score: 3.550695382342926\n",
      "test R2 score:  0.8584798112148251\n",
      "-------\n",
      "\n",
      "best model parameters: {'regressor__alpha': 1.0}\n",
      "validation RMSE score: -3.709309468451323\n",
      "test score: 3.7208646205933467\n",
      "test R2 score:  0.8461629237167745\n",
      "-------\n",
      "\n",
      "best model parameters: {'regressor__alpha': 1.0}\n",
      "validation RMSE score: -3.716826478098208\n",
      "test score: 3.9330435594312854\n",
      "test R2 score:  0.8309556934289671\n",
      "-------\n",
      "\n",
      "best model parameters: {'regressor__alpha': 1.0}\n",
      "validation RMSE score: -3.8582026984016426\n",
      "test score: 3.52790481260687\n",
      "test R2 score:  0.8597674477392617\n",
      "-------\n",
      "\n",
      "best model parameters: {'regressor__alpha': 1.0}\n",
      "validation RMSE score: -3.7742022952006797\n",
      "test score: 3.8226809185370962\n",
      "test R2 score:  0.8492008017863334\n",
      "-------\n",
      "\n",
      "best model parameters: {'regressor__alpha': 10.0}\n",
      "validation RMSE score: -3.775633790286892\n",
      "test score: 3.6374009436113264\n",
      "test R2 score:  0.8430229427336824\n",
      "-------\n",
      "\n",
      "best model parameters: {'regressor__alpha': 1.0}\n",
      "validation RMSE score: -3.774976697432834\n",
      "test score: 3.7198782151835497\n",
      "test R2 score:  0.8474721490101523\n",
      "-------\n",
      "\n",
      "best model parameters: {'regressor__alpha': 1.0}\n",
      "validation RMSE score: -3.8690007602998917\n",
      "test score: 3.5437673911336756\n",
      "test R2 score:  0.8523027583941137\n",
      "-------\n",
      "\n",
      "best model parameters: {'regressor__alpha': 1.0}\n",
      "validation RMSE score: -3.7081063137250707\n",
      "test score: 3.982259615309783\n",
      "test R2 score:  0.8270378253638742\n",
      "-------\n",
      "\n",
      "[3.747409572744655, 3.550695382342926, 3.7208646205933467, 3.9330435594312854, 3.52790481260687, 3.8226809185370962, 3.6374009436113264, 3.7198782151835497, 3.5437673911336756, 3.982259615309783]\n",
      "__RSME: \n",
      "Mean:  3.718590503149452\n",
      "Std:  0.1512905702473185\n",
      "__R2: \n",
      "Mean:  0.8456082762015866\n",
      "Std:  0.01004656388466853\n"
     ]
    }
   ],
   "source": [
    "ML_algo = Ridge()\n",
    "param_grid = {'regressor__alpha': [1e-4, 1e-3, 1e-2, 1e-1, 1e0, 1e1, 1e2]}\n",
    "models, scores, r2_scores = MLpipe_KFold_RMSE(X,y,preprocessor,ML_algo,param_grid)\n",
    "print(scores)\n",
    "\n",
    "\n",
    "print(\"__RSME: \")\n",
    "print(\"Mean: \",np.mean(scores))\n",
    "print(\"Std: \",np.std(scores))\n",
    "print(\"__R2: \")\n",
    "print(\"Mean: \",np.mean(r2_scores))\n",
    "print(\"Std: \",np.std(r2_scores))"
   ]
  },
  {
   "cell_type": "code",
   "execution_count": 100,
   "metadata": {},
   "outputs": [
    {
     "name": "stdout",
     "output_type": "stream",
     "text": [
      "best model parameters: {'regressor__alpha': 0.01, 'regressor__l1_ratio': 0.5, 'regressor__max_iter': 100000}\n",
      "validation RMSE score: -3.805465282866463\n",
      "test score: 3.7456907583107086\n",
      "test R2 score:  0.8418256073774749\n",
      "-------\n",
      "\n",
      "best model parameters: {'regressor__alpha': 0.01, 'regressor__l1_ratio': 0.75, 'regressor__max_iter': 100000}\n",
      "validation RMSE score: -3.8420209896884128\n",
      "test score: 3.5503460589032407\n",
      "test R2 score:  0.8585076558379164\n",
      "-------\n",
      "\n",
      "best model parameters: {'regressor__alpha': 0.01, 'regressor__l1_ratio': 0.9, 'regressor__max_iter': 100000}\n",
      "validation RMSE score: -3.7083540914378768\n",
      "test score: 3.73002809485148\n",
      "test R2 score:  0.8454042732075245\n",
      "-------\n",
      "\n",
      "best model parameters: {'regressor__alpha': 0.01, 'regressor__l1_ratio': 0.5, 'regressor__max_iter': 100000}\n",
      "validation RMSE score: -3.7159343638732767\n",
      "test score: 3.9292703597095056\n",
      "test R2 score:  0.8312798861124151\n",
      "-------\n",
      "\n",
      "best model parameters: {'regressor__alpha': 0.001, 'regressor__l1_ratio': 0.1, 'regressor__max_iter': 100000}\n",
      "validation RMSE score: -3.8583137854366494\n",
      "test score: 3.5282817200197436\n",
      "test R2 score:  0.8597374823548911\n",
      "-------\n",
      "\n",
      "best model parameters: {'regressor__alpha': 0.01, 'regressor__l1_ratio': 0.9, 'regressor__max_iter': 100000}\n",
      "validation RMSE score: -3.7719797974780835\n",
      "test score: 3.814998283431617\n",
      "test R2 score:  0.849806330238926\n",
      "-------\n",
      "\n",
      "best model parameters: {'regressor__alpha': 0.001, 'regressor__l1_ratio': 0.9, 'regressor__max_iter': 100000}\n",
      "validation RMSE score: -3.7766181747173575\n",
      "test score: 3.6383002421785924\n",
      "test R2 score:  0.8429453121969435\n",
      "-------\n",
      "\n",
      "best model parameters: {'regressor__alpha': 0.01, 'regressor__l1_ratio': 0.9, 'regressor__max_iter': 100000}\n",
      "validation RMSE score: -3.7728688500912244\n",
      "test score: 3.719695207188223\n",
      "test R2 score:  0.8474871565603914\n",
      "-------\n",
      "\n",
      "best model parameters: {'regressor__alpha': 0.01, 'regressor__l1_ratio': 0.9, 'regressor__max_iter': 100000}\n",
      "validation RMSE score: -3.868891946056518\n",
      "test score: 3.5422106971638065\n",
      "test R2 score:  0.8524324897680442\n",
      "-------\n",
      "\n",
      "best model parameters: {'regressor__alpha': 0.01, 'regressor__l1_ratio': 0.9, 'regressor__max_iter': 100000}\n",
      "validation RMSE score: -3.7040113076146004\n",
      "test score: 3.9797494061493754\n",
      "test R2 score:  0.8272558093416311\n",
      "-------\n",
      "\n",
      "[3.7456907583107086, 3.5503460589032407, 3.73002809485148, 3.9292703597095056, 3.5282817200197436, 3.814998283431617, 3.6383002421785924, 3.719695207188223, 3.5422106971638065, 3.9797494061493754]\n",
      "__RSME: \n",
      "Mean:  3.717857082790629\n",
      "Std:  0.14994182413459073\n",
      "__R2: \n",
      "Mean:  0.8456682002996156\n",
      "Std:  0.009986359060193016\n"
     ]
    }
   ],
   "source": [
    "ML_algo = ElasticNet()\n",
    "param_grid = {'regressor__alpha': [1e-4, 1e-3, 1e-2, 1e-1, 1e0, 1e1, 1e2], \n",
    "              'regressor__l1_ratio': [0.1, 0.25, 0.5, 0.75, 0.9], \n",
    "              'regressor__max_iter': [100000]}\n",
    "models, scores, r2_scores = MLpipe_KFold_RMSE(X,y,preprocessor,ML_algo,param_grid)\n",
    "print(scores)\n",
    "\n",
    "\n",
    "print(\"__RSME: \")\n",
    "print(\"Mean: \",np.mean(scores))\n",
    "print(\"Std: \",np.std(scores))\n",
    "print(\"__R2: \")\n",
    "print(\"Mean: \",np.mean(r2_scores))\n",
    "print(\"Std: \",np.std(r2_scores))"
   ]
  },
  {
   "cell_type": "code",
   "execution_count": 101,
   "metadata": {},
   "outputs": [
    {
     "name": "stdout",
     "output_type": "stream",
     "text": [
      "best model parameters: {'regressor__max_depth': None, 'regressor__max_features': 7}\n",
      "validation RMSE score: -2.241453786202859\n",
      "test score: 2.0057788466254123\n",
      "test R2 score:  0.9546436152970398\n",
      "-------\n",
      "\n",
      "best model parameters: {'regressor__max_depth': 20, 'regressor__max_features': None}\n",
      "validation RMSE score: -2.2441596540135382\n",
      "test score: 1.66904558798471\n",
      "test R2 score:  0.9687299938470821\n",
      "-------\n",
      "\n",
      "best model parameters: {'regressor__max_depth': 20, 'regressor__max_features': None}\n",
      "validation RMSE score: -2.161207910163351\n",
      "test score: 1.9157411670855582\n",
      "test R2 score:  0.9592200261380571\n",
      "-------\n",
      "\n",
      "best model parameters: {'regressor__max_depth': 20, 'regressor__max_features': None}\n",
      "validation RMSE score: -2.313231433923613\n",
      "test score: 1.8811335726979899\n",
      "test R2 score:  0.961329275891601\n",
      "-------\n",
      "\n",
      "best model parameters: {'regressor__max_depth': 20, 'regressor__max_features': 7}\n",
      "validation RMSE score: -2.3446867411631542\n",
      "test score: 1.7644701169217258\n",
      "test R2 score:  0.9649212801620548\n",
      "-------\n",
      "\n",
      "best model parameters: {'regressor__max_depth': 20, 'regressor__max_features': None}\n",
      "validation RMSE score: -2.2261026991628627\n",
      "test score: 1.831149873727622\n",
      "test R2 score:  0.9653972418180977\n",
      "-------\n",
      "\n",
      "best model parameters: {'regressor__max_depth': None, 'regressor__max_features': 7}\n",
      "validation RMSE score: -2.31658416007123\n",
      "test score: 1.7281329757606212\n",
      "test R2 score:  0.9645669817511796\n",
      "-------\n",
      "\n",
      "best model parameters: {'regressor__max_depth': None, 'regressor__max_features': None}\n",
      "validation RMSE score: -2.1923033484655674\n",
      "test score: 1.8769632802189014\n",
      "test R2 score:  0.9611667927396506\n",
      "-------\n",
      "\n",
      "best model parameters: {'regressor__max_depth': 20, 'regressor__max_features': None}\n",
      "validation RMSE score: -2.216739319045005\n",
      "test score: 1.5867039005224015\n",
      "test R2 score:  0.9703903176673743\n",
      "-------\n",
      "\n",
      "best model parameters: {'regressor__max_depth': None, 'regressor__max_features': None}\n",
      "validation RMSE score: -2.1051674555572\n",
      "test score: 2.0837101951745596\n",
      "test R2 score:  0.9526449138357029\n",
      "-------\n",
      "\n",
      "[2.0057788466254123, 1.66904558798471, 1.9157411670855582, 1.8811335726979899, 1.7644701169217258, 1.831149873727622, 1.7281329757606212, 1.8769632802189014, 1.5867039005224015, 2.0837101951745596]\n",
      "__RSME: \n",
      "Mean:  1.8342829516719505\n",
      "Std:  0.1438843501450499\n",
      "__R2: \n",
      "Mean:  0.9623010439147841\n",
      "Std:  0.005403285031371279\n"
     ]
    }
   ],
   "source": [
    "ML_algo = RandomForestRegressor()\n",
    "param_grid = {'regressor__max_features': [3, 5, 7, None], \n",
    "              'regressor__max_depth': [1, 3, 5, 10, 20, None]}\n",
    "models, scores, r2_scores = MLpipe_KFold_RMSE(X,y,preprocessor,ML_algo,param_grid)\n",
    "print(scores)\n",
    "\n",
    "\n",
    "print(\"__RSME: \")\n",
    "print(\"Mean: \",np.mean(scores))\n",
    "print(\"Std: \",np.std(scores))\n",
    "print(\"__R2: \")\n",
    "print(\"Mean: \",np.mean(r2_scores))\n",
    "print(\"Std: \",np.std(r2_scores))"
   ]
  },
  {
   "cell_type": "code",
   "execution_count": 102,
   "metadata": {},
   "outputs": [
    {
     "name": "stdout",
     "output_type": "stream",
     "text": [
      "best model parameters: {'regressor__C': 10.0, 'regressor__gamma': 'scale'}\n",
      "validation RMSE score: -2.728642455798518\n",
      "test score: 2.5402994379617554\n",
      "test R2 score:  0.9272484650361339\n",
      "-------\n",
      "\n",
      "best model parameters: {'regressor__C': 10.0, 'regressor__gamma': 'scale'}\n",
      "validation RMSE score: -2.8969564543291497\n",
      "test score: 2.311795387823454\n",
      "test R2 score:  0.9400084124940554\n",
      "-------\n",
      "\n",
      "best model parameters: {'regressor__C': 10.0, 'regressor__gamma': 'scale'}\n",
      "validation RMSE score: -2.7335885734713616\n",
      "test score: 2.401941843063147\n",
      "test R2 score:  0.93589406259817\n",
      "-------\n",
      "\n",
      "best model parameters: {'regressor__C': 10.0, 'regressor__gamma': 'scale'}\n",
      "validation RMSE score: -2.847269327977024\n",
      "test score: 2.677068137627478\n",
      "test R2 score:  0.92168194636321\n",
      "-------\n",
      "\n",
      "best model parameters: {'regressor__C': 10.0, 'regressor__gamma': 'scale'}\n",
      "validation RMSE score: -2.932738570870537\n",
      "test score: 2.2375022050537487\n",
      "test R2 score:  0.9435918229595031\n",
      "-------\n",
      "\n",
      "best model parameters: {'regressor__C': 10.0, 'regressor__gamma': 'scale'}\n",
      "validation RMSE score: -2.8838681183173325\n",
      "test score: 2.345538035504484\n",
      "test R2 score:  0.9432262089800599\n",
      "-------\n",
      "\n",
      "best model parameters: {'regressor__C': 10.0, 'regressor__gamma': 'scale'}\n",
      "validation RMSE score: -2.844059680937793\n",
      "test score: 2.357126611251066\n",
      "test R2 score:  0.934079627154823\n",
      "-------\n",
      "\n",
      "best model parameters: {'regressor__C': 10.0, 'regressor__gamma': 'scale'}\n",
      "validation RMSE score: -2.905723923943869\n",
      "test score: 2.4005308089219066\n",
      "test R2 score:  0.9364806162266447\n",
      "-------\n",
      "\n",
      "best model parameters: {'regressor__C': 10.0, 'regressor__gamma': 'scale'}\n",
      "validation RMSE score: -2.901165079017325\n",
      "test score: 2.2071019116826758\n",
      "test R2 score:  0.9427089550911641\n",
      "-------\n",
      "\n",
      "best model parameters: {'regressor__C': 10.0, 'regressor__gamma': 'scale'}\n",
      "validation RMSE score: -2.72066667239936\n",
      "test score: 2.604967502880797\n",
      "test R2 score:  0.9259889411573594\n",
      "-------\n",
      "\n",
      "[2.5402994379617554, 2.311795387823454, 2.401941843063147, 2.677068137627478, 2.2375022050537487, 2.345538035504484, 2.357126611251066, 2.4005308089219066, 2.2071019116826758, 2.604967502880797]\n",
      "__RSME: \n",
      "Mean:  2.408387188177051\n",
      "Std:  0.1462745562847377\n",
      "__R2: \n",
      "Mean:  0.9350909058061123\n",
      "Std:  0.007405499095615257\n"
     ]
    }
   ],
   "source": [
    "ML_algo = SVR()\n",
    "param_grid = {'regressor__C': np.logspace(-1, 1, 5), \n",
    "              'regressor__gamma': list(np.logspace(-1, 2, 5)) + ['scale']}\n",
    "\n",
    "models, scores, r2_scores = MLpipe_KFold_RMSE(X,y,preprocessor,ML_algo,param_grid)\n",
    "print(scores)\n",
    "\n",
    "\n",
    "print(\"__RSME: \")\n",
    "print(\"Mean: \",np.mean(scores))\n",
    "print(\"Std: \",np.std(scores))\n",
    "print(\"__R2: \")\n",
    "print(\"Mean: \",np.mean(r2_scores))\n",
    "print(\"Std: \",np.std(r2_scores))"
   ]
  },
  {
   "cell_type": "code",
   "execution_count": 103,
   "metadata": {},
   "outputs": [
    {
     "name": "stdout",
     "output_type": "stream",
     "text": [
      "best model parameters: {'regressor__n_neighbors': 5, 'regressor__weights': 'distance'}\n",
      "validation RMSE score: -3.0049592379148082\n",
      "test score: 2.642344518912586\n",
      "test R2 score:  0.921286138113704\n",
      "-------\n",
      "\n",
      "best model parameters: {'regressor__n_neighbors': 3, 'regressor__weights': 'distance'}\n",
      "validation RMSE score: -2.96913750718986\n",
      "test score: 2.6409284306718446\n",
      "test R2 score:  0.9217102633013133\n",
      "-------\n",
      "\n",
      "best model parameters: {'regressor__n_neighbors': 5, 'regressor__weights': 'distance'}\n",
      "validation RMSE score: -2.9806612099949783\n",
      "test score: 2.408540434693152\n",
      "test R2 score:  0.9355413563524305\n",
      "-------\n",
      "\n",
      "best model parameters: {'regressor__n_neighbors': 5, 'regressor__weights': 'distance'}\n",
      "validation RMSE score: -3.151212890643592\n",
      "test score: 2.5251405600531425\n",
      "test R2 score:  0.9303190358581968\n",
      "-------\n",
      "\n",
      "best model parameters: {'regressor__n_neighbors': 5, 'regressor__weights': 'distance'}\n",
      "validation RMSE score: -3.0840132233259205\n",
      "test score: 2.498423557962436\n",
      "test R2 score:  0.9296689253735858\n",
      "-------\n",
      "\n",
      "best model parameters: {'regressor__n_neighbors': 5, 'regressor__weights': 'distance'}\n",
      "validation RMSE score: -3.0377984850672046\n",
      "test score: 2.4501812312553573\n",
      "test R2 score:  0.9380474263624293\n",
      "-------\n",
      "\n",
      "best model parameters: {'regressor__n_neighbors': 3, 'regressor__weights': 'distance'}\n",
      "validation RMSE score: -2.9038870648015562\n",
      "test score: 2.677200564414381\n",
      "test R2 score:  0.9149614886590524\n",
      "-------\n",
      "\n",
      "best model parameters: {'regressor__n_neighbors': 5, 'regressor__weights': 'distance'}\n",
      "validation RMSE score: -3.047928304821705\n",
      "test score: 2.555241483031835\n",
      "test R2 score:  0.9280293199021159\n",
      "-------\n",
      "\n",
      "best model parameters: {'regressor__n_neighbors': 5, 'regressor__weights': 'distance'}\n",
      "validation RMSE score: -3.1437128442639675\n",
      "test score: 2.5182210324387087\n",
      "test R2 score:  0.9254187491086167\n",
      "-------\n",
      "\n",
      "best model parameters: {'regressor__n_neighbors': 5, 'regressor__weights': 'distance'}\n",
      "validation RMSE score: -3.015635323465144\n",
      "test score: 2.503555153648212\n",
      "test R2 score:  0.9316393277798357\n",
      "-------\n",
      "\n",
      "[2.642344518912586, 2.6409284306718446, 2.408540434693152, 2.5251405600531425, 2.498423557962436, 2.4501812312553573, 2.677200564414381, 2.555241483031835, 2.5182210324387087, 2.503555153648212]\n",
      "__RSME: \n",
      "Mean:  2.5419776967081655\n",
      "Std:  0.0829331753753689\n",
      "__R2: \n",
      "Mean:  0.927662203081128\n",
      "Std:  0.006628672064886653\n"
     ]
    }
   ],
   "source": [
    "ML_algo = KNeighborsRegressor()\n",
    "param_grid = {'regressor__n_neighbors': [1, 2, 3, 5, 10, 30, 100], \n",
    "              'regressor__weights': ['uniform', 'distance']}\n",
    "\n",
    "models, scores, r2_scores = MLpipe_KFold_RMSE(X,y,preprocessor,ML_algo,param_grid)\n",
    "print(scores)\n",
    "\n",
    "\n",
    "print(\"__RSME: \")\n",
    "print(\"Mean: \",np.mean(scores))\n",
    "print(\"Std: \",np.std(scores))\n",
    "print(\"__R2: \")\n",
    "print(\"Mean: \",np.mean(r2_scores))\n",
    "print(\"Std: \",np.std(r2_scores))"
   ]
  },
  {
   "cell_type": "code",
   "execution_count": 104,
   "metadata": {},
   "outputs": [
    {
     "name": "stdout",
     "output_type": "stream",
     "text": [
      "best model parameters: {'regressor__colsample_bytree': 0.9, 'regressor__learning_rate': 0.02, 'regressor__missing': nan, 'regressor__n_estimators': 10000, 'regressor__seed': 0, 'regressor__subsample': 0.66}\n",
      "validation RMSE score: -2.078363933954233\n",
      "test score: 1.8100930347124835\n",
      "test R2 score:  0.963061935870073\n",
      "-------\n",
      "\n",
      "best model parameters: {'regressor__colsample_bytree': 0.9, 'regressor__learning_rate': 0.02, 'regressor__missing': nan, 'regressor__n_estimators': 10000, 'regressor__seed': 0, 'regressor__subsample': 0.8}\n",
      "validation RMSE score: -2.084697009425453\n",
      "test score: 1.5089184324990055\n",
      "test R2 score:  0.9744422218433453\n",
      "-------\n",
      "\n",
      "best model parameters: {'regressor__colsample_bytree': 0.9, 'regressor__learning_rate': 0.02, 'regressor__missing': nan, 'regressor__n_estimators': 10000, 'regressor__seed': 0, 'regressor__subsample': 0.66}\n",
      "validation RMSE score: -2.0062663630568474\n",
      "test score: 1.6273158620428192\n",
      "test R2 score:  0.9705749645460575\n",
      "-------\n",
      "\n",
      "best model parameters: {'regressor__colsample_bytree': 0.9, 'regressor__learning_rate': 0.02, 'regressor__missing': nan, 'regressor__n_estimators': 10000, 'regressor__seed': 0, 'regressor__subsample': 0.66}\n",
      "validation RMSE score: -2.1576502470999186\n",
      "test score: 1.7405919963296752\n",
      "test R2 score:  0.9668916909897647\n",
      "-------\n",
      "\n",
      "best model parameters: {'regressor__colsample_bytree': 0.9, 'regressor__learning_rate': 0.02, 'regressor__missing': nan, 'regressor__n_estimators': 10000, 'regressor__seed': 0, 'regressor__subsample': 0.66}\n",
      "validation RMSE score: -2.155702626108077\n",
      "test score: 1.6207163617132503\n",
      "test R2 score:  0.9704042633803752\n",
      "-------\n",
      "\n",
      "best model parameters: {'regressor__colsample_bytree': 0.9, 'regressor__learning_rate': 0.02, 'regressor__missing': nan, 'regressor__n_estimators': 10000, 'regressor__seed': 0, 'regressor__subsample': 0.66}\n",
      "validation RMSE score: -2.0683932756007013\n",
      "test score: 1.7531784616288273\n",
      "test R2 score:  0.9682813139633223\n",
      "-------\n",
      "\n",
      "best model parameters: {'regressor__colsample_bytree': 0.9, 'regressor__learning_rate': 0.03, 'regressor__missing': nan, 'regressor__n_estimators': 10000, 'regressor__seed': 0, 'regressor__subsample': 0.8}\n",
      "validation RMSE score: -2.1260103924901848\n",
      "test score: 1.5735087594951944\n",
      "test R2 score:  0.9706240335856754\n",
      "-------\n",
      "\n",
      "best model parameters: {'regressor__colsample_bytree': 0.9, 'regressor__learning_rate': 0.02, 'regressor__missing': nan, 'regressor__n_estimators': 10000, 'regressor__seed': 0, 'regressor__subsample': 0.66}\n",
      "validation RMSE score: -2.0811825069398395\n",
      "test score: 1.6892027693512548\n",
      "test R2 score:  0.9685474922996665\n",
      "-------\n",
      "\n",
      "best model parameters: {'regressor__colsample_bytree': 0.9, 'regressor__learning_rate': 0.03, 'regressor__missing': nan, 'regressor__n_estimators': 10000, 'regressor__seed': 0, 'regressor__subsample': 0.66}\n",
      "validation RMSE score: -2.1058050512964157\n",
      "test score: 1.504480162735257\n",
      "test R2 score:  0.9733795801432895\n",
      "-------\n",
      "\n",
      "best model parameters: {'regressor__colsample_bytree': 0.9, 'regressor__learning_rate': 0.03, 'regressor__missing': nan, 'regressor__n_estimators': 10000, 'regressor__seed': 0, 'regressor__subsample': 0.8}\n",
      "validation RMSE score: -1.9676917942281822\n",
      "test score: 1.866232336168355\n",
      "test R2 score:  0.9620140127439135\n",
      "-------\n",
      "\n",
      "[1.8100930347124835, 1.5089184324990055, 1.6273158620428192, 1.7405919963296752, 1.6207163617132503, 1.7531784616288273, 1.5735087594951944, 1.6892027693512548, 1.504480162735257, 1.866232336168355]\n",
      "__RSME: \n",
      "Mean:  1.6694238176676124\n",
      "Std:  0.11717762631772075\n",
      "__R2: \n",
      "Mean:  0.9688221509365483\n",
      "Std:  0.0038052991374439983\n"
     ]
    }
   ],
   "source": [
    "import xgboost as xgb\n",
    "\n",
    "ML_algo = xgb.XGBRegressor() # initialize \n",
    "param_grid = {\"regressor__learning_rate\": [0.02, 0.03],\n",
    "              \"regressor__n_estimators\": [10000],\n",
    "              \"regressor__seed\": [0],\n",
    "              \"regressor__missing\": [np.nan], \n",
    "              \"regressor__colsample_bytree\": [0.9],              \n",
    "              \"regressor__subsample\": [0.8 ,0.66]}\n",
    "models, scores, r2_scores = MLpipe_KFold_RMSE(X,y,preprocessor,ML_algo,param_grid)\n",
    "print(scores)\n",
    "\n",
    "\n",
    "print(\"__RSME: \")\n",
    "print(\"Mean: \",np.mean(scores))\n",
    "print(\"Std: \",np.std(scores))\n",
    "print(\"__R2: \")\n",
    "print(\"Mean: \",np.mean(r2_scores))\n",
    "print(\"Std: \",np.std(r2_scores))"
   ]
  },
  {
   "cell_type": "code",
   "execution_count": 105,
   "metadata": {},
   "outputs": [],
   "source": [
    "#plot\n",
    "plt_models = ['LinearRegress-Lasso','LinearRegress-Ridge','LinearRegress-ElasticNet',\n",
    "              'RandomForest','SVR','KNeighbors','XGboost']\n",
    "avg_RSME_mean = [3.7179505151338326, 3.718590503149452, 3.717857082790629, 1.8342829516719505, 2.408387188177051, \n",
    "                 2.5419776967081655,1.6694238176676124]\n",
    "\n",
    "avg_RSME_std = [0.15032051226738677, 0.1512905702473185, 0.14994182413459073, 0.1438843501450499, 0.1462745562847377, \n",
    "                0.0829331753753689, 0.11717762631772075 ]\n",
    "\n",
    "avg_R2_mean = [0.8456600544715733, 0.8456082762015866, 0.8456682002996156, 0.9623010439147841, 0.9350909058061123, \n",
    "               0.927662203081128 ,0.9688221509365483]\n",
    "\n",
    "avg_R2_std = [0.0100136226659502, 0.01004656388466853, 0.009986359060193016, 0.00540328503137127, 0.007405499095615257, \n",
    "              0.006628672064886653, 0.0038052991374439983]"
   ]
  },
  {
   "cell_type": "code",
   "execution_count": 123,
   "metadata": {},
   "outputs": [
    {
     "data": {
      "image/png": "[encoded data removed]",
      "text/plain": [
       "<Figure size 720x504 with 1 Axes>"
      ]
     },
     "metadata": {
      "needs_background": "light"
     },
     "output_type": "display_data"
    }
   ],
   "source": [
    "import matplotlib.pyplot as plt\n",
    "\n",
    "plt.errorbar(plt_models,avg_RSME_mean,yerr=avg_RSME_std,fmt='o',label='RSME')\n",
    "\n",
    "\n",
    "plt.ylabel('Test Scores', fontsize=12)\n",
    "plt.xlabel('Models', fontsize=12)\n",
    "plt.xticks(rotation=45, fontsize=12)\n",
    "plt.title('RSME Across Models', fontsize=15)\n",
    "fig = plt.gcf()\n",
    "fig.set_size_inches(10, 7, forward=True)   \n",
    "\n",
    "plt.show()\n"
   ]
  },
  {
   "cell_type": "code",
   "execution_count": 126,
   "metadata": {},
   "outputs": [
    {
     "data": {
      "image/png": "[encoded data removed]",
      "text/plain": [
       "<Figure size 720x504 with 1 Axes>"
      ]
     },
     "metadata": {
      "needs_background": "light"
     },
     "output_type": "display_data"
    }
   ],
   "source": [
    "plt.errorbar(plt_models,avg_R2_mean,yerr=avg_R2_std,fmt='o',label='R2 Score')\n",
    "plt.ylabel('Test Scores', fontsize=12)\n",
    "plt.xlabel('Models', fontsize=12)\n",
    "plt.xticks(rotation=45, fontsize=12)\n",
    "\n",
    "plt.title('R2 Across Models', fontsize=15)\n",
    "fig = plt.gcf()\n",
    "fig.set_size_inches(10, 7, forward=True)   \n",
    "plt.show()"
   ]
  },
  {
   "cell_type": "markdown",
   "metadata": {},
   "source": [
    "# Trash bin:"
   ]
  },
  {
   "cell_type": "markdown",
   "metadata": {},
   "source": [
    "def MLpipe_KFold_RMSE(X,y,preprocessor,ML_algo,param_grid):\n",
    "    '''\n",
    "    This function splits the data to other/test (80/20) and then applies KFold with 4 folds to other.\n",
    "    The RMSE is minimized in cross-validation.\n",
    "    '''    \n",
    "    test_scores = []\n",
    "    best_models = []\n",
    "    r2_scores = []\n",
    "    # loop through 10 random states (2 points)[x]\n",
    "    random_states = [1,45,78,22,67,12,37,23,47,17]\n",
    "    for random_state in random_states:\n",
    "        global random_st\n",
    "        random_st = random_state\n",
    "        print('Random State:',random_state)\n",
    "        \n",
    "        # split data to other/test 80/20, [x]\n",
    "        #and the use KFold with 4 folds (2 points) [x]\n",
    "        X_other, X_test, y_other, y_test = train_test_split(X, y, test_size=0.2, random_state = random_state)\n",
    "        #kf = KFold(n_splits=4,shuffle=True,random_state=random_state)\n",
    "        \n",
    "        n = 5\n",
    "        kf = TimeSeriesSplit(n_splits=n)\n",
    "        \n",
    "        # preprocess the data (1 point)[x]\n",
    "        pipe = make_pipeline(preprocessor,ML_algo)\n",
    "        \n",
    "        # loop through the hyperparameter combinations or use GridSearchCV (2 points)[]\n",
    "        grid = GridSearchCV(pipe, param_grid=param_grid,\n",
    "                            scoring = 'neg_root_mean_squared_error',\n",
    "                        cv=kf, return_train_score = True)\n",
    "        grid.fit(X_other, y_other)\n",
    "        \n",
    "        # for each combination, calculate the train and validation scores using the evaluation metric[x]\n",
    "             # GridSearchCV loops through all parameter combinations and collects the results \n",
    "            # save results into a data frame.\n",
    "        results = pd.DataFrame(grid.cv_results_)\n",
    "    \n",
    "        # find which hyperparameter combination gives the best validation score (1 point)[x]\n",
    "        print('best model parameters:',grid.best_params_)\n",
    "        print('validation RMSE score:',grid.best_score_)\n",
    "        \n",
    "        \n",
    "        \n",
    "        # calculate the test score (1 point)[]\n",
    "        test_RMSE = math.sqrt(mean_squared_error(y_test,grid.predict(X_test)))\n",
    "        print('test score:',test_RMSE)\n",
    "        r2_scr = r2_score(y_test,grid.predict(X_test))\n",
    "        print('test R2 score: ', r2_scr)\n",
    "        # append the test score and the best model to the lists (1 point)[]     \n",
    "        test_scores.append(test_RMSE)\n",
    "        best_models.append(grid.best_score_)\n",
    "        r2_scores.append(r2_scr)\n",
    "        #print(sorted(x for x in results))\n",
    "        \n",
    "        print(\"-------\\n\")\n",
    "    return best_models, test_scores, r2_scores\n",
    "\n"
   ]
  },
  {
   "cell_type": "markdown",
   "metadata": {},
   "source": [
    "preprocessor = ColumnTransformer(\n",
    "    transformers=[\n",
    "        ('num', numeric_transformer, num_ftrs),\n",
    "        ('cat', categorical_transformer, cat_ftrs)])  \n",
    "clf = Pipeline(steps=[('preprocessor', preprocessor)]) # if you had a more complex dataset, you'd have a ColumnTransformer here\n"
   ]
  }
 ],
 "metadata": {
  "@webio": {
   "lastCommId": null,
   "lastKernelId": null
  },
  "kernelspec": {
   "display_name": "Python 3",
   "language": "python",
   "name": "python3"
  },
  "language_info": {
   "codemirror_mode": {
    "name": "ipython",
    "version": 3
   },
   "file_extension": ".py",
   "mimetype": "text/x-python",
   "name": "python",
   "nbconvert_exporter": "python",
   "pygments_lexer": "ipython3",
   "version": "3.8.3"
  }
 },
 "nbformat": 4,
 "nbformat_minor": 4
}
