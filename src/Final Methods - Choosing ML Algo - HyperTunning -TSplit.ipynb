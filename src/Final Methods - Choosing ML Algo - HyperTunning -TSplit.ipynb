{
 "cells": [
  {
   "cell_type": "code",
   "execution_count": 1,
   "metadata": {},
   "outputs": [],
   "source": [
    "import numpy as np\n",
    "import pandas as pd\n",
    "from sklearn.linear_model import LinearRegression\n",
    "from sklearn.model_selection import train_test_split\n",
    "from sklearn.experimental import enable_iterative_imputer\n",
    "from sklearn.impute import IterativeImputer\n",
    "from sklearn.compose import ColumnTransformer\n",
    "from sklearn.pipeline import Pipeline\n",
    "from sklearn.ensemble import RandomForestRegressor\n",
    "from sklearn.impute import SimpleImputer\n",
    "from sklearn.preprocessing import OneHotEncoder\n",
    "from sklearn.preprocessing import OrdinalEncoder\n",
    "from sklearn.preprocessing import StandardScaler\n",
    "from sklearn.metrics import r2_score, mean_squared_error, mean_absolute_error\n",
    "from sklearn.linear_model import BayesianRidge"
   ]
  },
  {
   "cell_type": "code",
   "execution_count": 2,
   "metadata": {},
   "outputs": [],
   "source": [
    "#preprocess:\n",
    "# collect the various features\n",
    "#cat_ftrs = ['Continent','Country','Status'] \n",
    "cat_ftrs = ['Continent','Status'] \n",
    "num_ftrs = ['Adult_Mortality','Alcohol','Percentage_Expenditure','Hepatitis_B_Vaccine','Measles_Vaccine',\n",
    "            'Body_Mass_Index','Deaths_Under_5','Polio_Vaccine','Total_Expenditure','Diphtheria_Vaccine','HIV/AIDS_Cases',\n",
    "            'GDP','Population','Thinness_1-19_Years','Income_Composition_of_Resources','Schooling']\n",
    "\n",
    "random_state = 42\n",
    "\n",
    "\n",
    "df = pd.read_csv(\"Life_Exp_Moded.csv\")\n",
    "df.drop(columns=['Country'],inplace=True)\n",
    "\n",
    "\n",
    "# let's separate the feature matrix X, and target variable y\n",
    "y = df['Life_Expectancy'] \n",
    "X = df.loc[:, df.columns != 'Life_Expectancy'] # all other columns are features\n",
    "\n",
    "X_train_, X_other_, y_train, y_other_ = train_test_split(X, y, train_size=0.6, random_state= random_state)\n",
    "X_val_, X_test_, y_val, y_test = train_test_split(X_other_, y_other_, test_size=0.5, random_state= random_state)\n",
    "\n",
    "# one-hot encoder\n",
    "# We need to replace the NaN with a string first!\n",
    "categorical_transformer = Pipeline(steps=[\n",
    "    ('onehot', OneHotEncoder(sparse=False,handle_unknown='ignore'))])\n",
    "\n",
    "# standard scaler\n",
    "numeric_transformer = Pipeline(steps=[\n",
    "    ('imputer', IterativeImputer(estimator = BayesianRidge())),\n",
    "    ('scaler', StandardScaler())])\n",
    "\n",
    "# collect the transformers\n",
    "preprocessor = ColumnTransformer(\n",
    "    transformers=[\n",
    "        ('num', numeric_transformer, num_ftrs),\n",
    "        ('cat', categorical_transformer, cat_ftrs)])  \n",
    "clf = Pipeline(steps=[('preprocessor', preprocessor)]) # for now we only preprocess \n",
    "                                                       # later on we will add other steps here\n",
    "    \n",
    "X_train = clf.fit_transform(X_train_)\n",
    "X_test = clf.transform(X_test_)\n",
    "X_val = clf.transform(X_val_)\n"
   ]
  },
  {
   "cell_type": "code",
   "execution_count": 25,
   "metadata": {},
   "outputs": [
    {
     "name": "stdout",
     "output_type": "stream",
     "text": [
      "(1756, 24)\n",
      "(586, 24)\n",
      "(586, 24)\n"
     ]
    }
   ],
   "source": [
    "print(X_train.shape)\n",
    "print(X_test.shape)\n",
    "print(X_val.shape)"
   ]
  },
  {
   "cell_type": "code",
   "execution_count": 26,
   "metadata": {},
   "outputs": [
    {
     "data": {
      "text/plain": [
       "array([[ 0.70646413, -1.17790186, -0.38181758, ...,  0.        ,\n",
       "         0.        ,  1.        ],\n",
       "       [-0.62162123,  0.18946944, -0.38181758, ...,  0.        ,\n",
       "         0.        ,  1.        ],\n",
       "       [-0.15241742,  0.05440285, -0.38181758, ...,  0.        ,\n",
       "         0.        ,  1.        ],\n",
       "       ...,\n",
       "       [-0.70114729,  2.22249242,  4.50802667, ...,  0.        ,\n",
       "         1.        ,  0.        ],\n",
       "       [ 2.54351632,  0.98074337,  0.04973175, ...,  0.        ,\n",
       "         0.        ,  1.        ],\n",
       "       [-0.61366862, -1.11470814,  0.42412614, ...,  0.        ,\n",
       "         0.        ,  1.        ]])"
      ]
     },
     "execution_count": 26,
     "metadata": {},
     "output_type": "execute_result"
    }
   ],
   "source": [
    "X_train"
   ]
  },
  {
   "cell_type": "code",
   "execution_count": null,
   "metadata": {},
   "outputs": [],
   "source": []
  },
  {
   "cell_type": "code",
   "execution_count": null,
   "metadata": {},
   "outputs": [],
   "source": []
  },
  {
   "cell_type": "markdown",
   "metadata": {},
   "source": [
    "# Linear Regression"
   ]
  },
  {
   "cell_type": "code",
   "execution_count": 28,
   "metadata": {},
   "outputs": [
    {
     "name": "stdout",
     "output_type": "stream",
     "text": [
      "test R2 Score:  0.8154114140475239\n",
      "val R2 Score:  0.8253924112165916\n",
      "test MSE:  14.012055069670634\n",
      "val MSE:  13.276876456824057\n",
      "test MAE:  2.8153938191897976\n",
      "val MAE:  2.8149318455009382\n",
      "test RMSE:  3.743267966586233\n",
      "val RMSE:  3.6437448396977605\n"
     ]
    }
   ],
   "source": [
    "#Linear Regression\n",
    "\n",
    "linreg = LinearRegression(fit_intercept=True, normalize=True).fit(X_train, y_train)\n",
    "y_new= linreg.predict(X_test)\n",
    "y_newval= linreg.predict(X_val)\n",
    "\n",
    "print(\"test R2 Score: \",r2_score(y_new, y_test))\n",
    "print(\"val R2 Score: \",r2_score(y_newval, y_val))\n",
    "\n",
    "print(\"test MSE: \",mean_squared_error(y_new, y_test))\n",
    "print(\"val MSE: \",mean_squared_error(y_newval, y_val))\n",
    "\n",
    "print(\"test MAE: \",mean_absolute_error(y_new, y_test))\n",
    "print(\"val MAE: \",mean_absolute_error(y_newval, y_val))\n",
    "\n",
    "print(\"test RMSE: \",np.sqrt(mean_squared_error(y_new, y_test)))\n",
    "print(\"val RMSE: \",np.sqrt(mean_squared_error(y_newval, y_val)))"
   ]
  },
  {
   "cell_type": "code",
   "execution_count": null,
   "metadata": {},
   "outputs": [],
   "source": [
    "from sklearn.linear_model import Lasso"
   ]
  },
  {
   "cell_type": "code",
   "execution_count": null,
   "metadata": {},
   "outputs": [],
   "source": [
    "from sklearn.linear_model import Ridge"
   ]
  },
  {
   "cell_type": "code",
   "execution_count": null,
   "metadata": {},
   "outputs": [],
   "source": []
  },
  {
   "cell_type": "code",
   "execution_count": null,
   "metadata": {},
   "outputs": [],
   "source": []
  },
  {
   "cell_type": "markdown",
   "metadata": {},
   "source": [
    "# Logistic regression - Not for regression problem"
   ]
  },
  {
   "cell_type": "markdown",
   "metadata": {},
   "source": [
    "# Decision tree in regression - Random Forest Regressor"
   ]
  },
  {
   "cell_type": "code",
   "execution_count": 29,
   "metadata": {},
   "outputs": [
    {
     "name": "stdout",
     "output_type": "stream",
     "text": [
      "test R2 Score:  0.27094636362757774\n",
      "val R2 Score:  0.17401872968447063\n",
      "test MSE:  36.83657938639859\n",
      "val MSE:  42.62033548189617\n",
      "test MAE:  4.698183789698394\n",
      "val MAE:  5.008991737445724\n",
      "test RMSE:  6.069314573030351\n",
      "val RMSE:  6.528425191567731\n"
     ]
    }
   ],
   "source": [
    "#A decision tree in regression -max_depth = 1\n",
    "from sklearn.ensemble import RandomForestRegressor\n",
    "\n",
    "RFreg = RandomForestRegressor(n_estimators=1,max_depth=1,random_state=random_state)\n",
    "RFreg.fit(X_train, y_train)\n",
    "y_new = RFreg.predict(X_test)\n",
    "y_newval= RFreg.predict(X_val)\n",
    "\n",
    "print(\"test R2 Score: \",r2_score(y_new, y_test))\n",
    "print(\"val R2 Score: \",r2_score(y_newval, y_val))\n",
    "\n",
    "print(\"test MSE: \",mean_squared_error(y_new, y_test))\n",
    "print(\"val MSE: \",mean_squared_error(y_newval, y_val))\n",
    "\n",
    "print(\"test MAE: \",mean_absolute_error(y_new, y_test))\n",
    "print(\"val MAE: \",mean_absolute_error(y_newval, y_val))\n",
    "\n",
    "print(\"test RMSE: \",np.sqrt(mean_squared_error(y_new, y_test)))\n",
    "print(\"val RMSE: \",np.sqrt(mean_squared_error(y_newval, y_val)))"
   ]
  },
  {
   "cell_type": "code",
   "execution_count": 30,
   "metadata": {},
   "outputs": [
    {
     "name": "stdout",
     "output_type": "stream",
     "text": [
      "test R2 Score:  0.7965684522750858\n",
      "val R2 Score:  0.7806072407795397\n",
      "test MSE:  15.20253542018583\n",
      "val MSE:  16.22205725009507\n",
      "test MAE:  2.7947596653063562\n",
      "val MAE:  2.9170863590371603\n",
      "test RMSE:  3.899042885143203\n",
      "val RMSE:  4.02766151136054\n"
     ]
    }
   ],
   "source": [
    "#A decision tree in regression -max_depth = 3\n",
    "RFreg = RandomForestRegressor(n_estimators=1,max_depth=3,random_state=random_state)\n",
    "RFreg.fit(X_train, y_train)\n",
    "y_new = RFreg.predict(X_test)\n",
    "y_newval= RFreg.predict(X_val)\n",
    "\n",
    "print(\"test R2 Score: \",r2_score(y_new, y_test))\n",
    "print(\"val R2 Score: \",r2_score(y_newval, y_val))\n",
    "\n",
    "print(\"test MSE: \",mean_squared_error(y_new, y_test))\n",
    "print(\"val MSE: \",mean_squared_error(y_newval, y_val))\n",
    "\n",
    "print(\"test MAE: \",mean_absolute_error(y_new, y_test))\n",
    "print(\"val MAE: \",mean_absolute_error(y_newval, y_val))\n",
    "\n",
    "print(\"test RMSE: \",np.sqrt(mean_squared_error(y_new, y_test)))\n",
    "print(\"val RMSE: \",np.sqrt(mean_squared_error(y_newval, y_val)))"
   ]
  },
  {
   "cell_type": "code",
   "execution_count": 31,
   "metadata": {},
   "outputs": [
    {
     "name": "stdout",
     "output_type": "stream",
     "text": [
      "test R2 Score:  0.883548510013391\n",
      "val R2 Score:  0.8899913897216133\n",
      "test MSE:  9.443251749035818\n",
      "val MSE:  8.945190392307575\n",
      "test MAE:  2.1602709758391483\n",
      "val MAE:  2.091189417590858\n",
      "test RMSE:  3.0729874306667475\n",
      "val RMSE:  2.990851115035246\n"
     ]
    }
   ],
   "source": [
    "#A decision tree in regression -max_depth = 6\n",
    "RFreg = RandomForestRegressor(n_estimators=1,max_depth=6,random_state=random_state)\n",
    "RFreg.fit(X_train, y_train)\n",
    "y_new = RFreg.predict(X_test)\n",
    "y_newval= RFreg.predict(X_val)\n",
    "\n",
    "print(\"test R2 Score: \",r2_score(y_new, y_test))\n",
    "print(\"val R2 Score: \",r2_score(y_newval, y_val))\n",
    "\n",
    "print(\"test MSE: \",mean_squared_error(y_new, y_test))\n",
    "print(\"val MSE: \",mean_squared_error(y_newval, y_val))\n",
    "\n",
    "print(\"test MAE: \",mean_absolute_error(y_new, y_test))\n",
    "print(\"val MAE: \",mean_absolute_error(y_newval, y_val))\n",
    "\n",
    "print(\"test RMSE: \",np.sqrt(mean_squared_error(y_new, y_test)))\n",
    "print(\"val RMSE: \",np.sqrt(mean_squared_error(y_newval, y_val)))"
   ]
  },
  {
   "cell_type": "code",
   "execution_count": 32,
   "metadata": {},
   "outputs": [
    {
     "name": "stdout",
     "output_type": "stream",
     "text": [
      "test R2 Score:  0.8895122993734117\n",
      "val R2 Score:  0.889648574326114\n",
      "test MSE:  9.46542489165339\n",
      "val MSE:  9.724703450844194\n",
      "test MAE:  2.0309390513438337\n",
      "val MAE:  1.9905474311852933\n",
      "test RMSE:  3.076593065657756\n",
      "val RMSE:  3.1184456786745853\n"
     ]
    }
   ],
   "source": [
    "#A decision tree in regression -max_depth = 10\n",
    "RFreg = RandomForestRegressor(n_estimators=1,max_depth=10,random_state=random_state)\n",
    "RFreg.fit(X_train, y_train)\n",
    "y_new = RFreg.predict(X_test)\n",
    "y_newval= RFreg.predict(X_val)\n",
    "\n",
    "print(\"test R2 Score: \",r2_score(y_new, y_test))\n",
    "print(\"val R2 Score: \",r2_score(y_newval, y_val))\n",
    "\n",
    "print(\"test MSE: \",mean_squared_error(y_new, y_test))\n",
    "print(\"val MSE: \",mean_squared_error(y_newval, y_val))\n",
    "\n",
    "print(\"test MAE: \",mean_absolute_error(y_new, y_test))\n",
    "print(\"val MAE: \",mean_absolute_error(y_newval, y_val))\n",
    "\n",
    "print(\"test RMSE: \",np.sqrt(mean_squared_error(y_new, y_test)))\n",
    "print(\"val RMSE: \",np.sqrt(mean_squared_error(y_newval, y_val)))"
   ]
  },
  {
   "cell_type": "markdown",
   "metadata": {},
   "source": [
    "# SVM - SVR"
   ]
  },
  {
   "cell_type": "code",
   "execution_count": 33,
   "metadata": {},
   "outputs": [
    {
     "name": "stdout",
     "output_type": "stream",
     "text": [
      "test R2 Score:  -5.601862507947571\n",
      "val R2 Score:  -6.339491565299282\n",
      "test MSE:  63.24011129350475\n",
      "val MSE:  66.44572783549087\n",
      "test MAE:  5.5799081319661585\n",
      "val MAE:  5.497483396736803\n",
      "test RMSE:  7.952365138341219\n",
      "val RMSE:  8.15142489602222\n"
     ]
    }
   ],
   "source": [
    "# SVM - SVR - gamma = 1\n",
    "from sklearn.svm import SVR\n",
    "\n",
    "svr_reg = SVR(gamma = 1, C = 1)\n",
    "svr_reg.fit(X_train, y_train)\n",
    "y_new = svr_reg.predict(X_test)\n",
    "y_newval= svr_reg.predict(X_val)\n",
    "\n",
    "print(\"test R2 Score: \",r2_score(y_new, y_test))\n",
    "print(\"val R2 Score: \",r2_score(y_newval, y_val))\n",
    "\n",
    "print(\"test MSE: \",mean_squared_error(y_new, y_test))\n",
    "print(\"val MSE: \",mean_squared_error(y_newval, y_val))\n",
    "\n",
    "print(\"test MAE: \",mean_absolute_error(y_new, y_test))\n",
    "print(\"val MAE: \",mean_absolute_error(y_newval, y_val))\n",
    "\n",
    "print(\"test RMSE: \",np.sqrt(mean_squared_error(y_new, y_test)))\n",
    "print(\"val RMSE: \",np.sqrt(mean_squared_error(y_newval, y_val)))"
   ]
  },
  {
   "cell_type": "code",
   "execution_count": 34,
   "metadata": {},
   "outputs": [
    {
     "name": "stdout",
     "output_type": "stream",
     "text": [
      "test R2 Score:  -5.601862507947571\n",
      "val R2 Score:  -6.339491565299282\n",
      "test MSE:  63.24011129350475\n",
      "val MSE:  66.44572783549087\n",
      "test MAE:  5.5799081319661585\n",
      "val MAE:  5.497483396736803\n",
      "test RMSE:  7.952365138341219\n",
      "val RMSE:  8.15142489602222\n"
     ]
    }
   ],
   "source": [
    "# SVM - SVR - gamma = 1\n",
    "from sklearn.svm import SVR\n",
    "\n",
    "svr_reg = SVR(gamma = 1, C = 1)\n",
    "svr_reg.fit(X_train, y_train)\n",
    "y_new = svr_reg.predict(X_test)\n",
    "y_newval= svr_reg.predict(X_val)\n",
    "\n",
    "print(\"test R2 Score: \",r2_score(y_new, y_test))\n",
    "print(\"val R2 Score: \",r2_score(y_newval, y_val))\n",
    "\n",
    "print(\"test MSE: \",mean_squared_error(y_new, y_test))\n",
    "print(\"val MSE: \",mean_squared_error(y_newval, y_val))\n",
    "\n",
    "print(\"test MAE: \",mean_absolute_error(y_new, y_test))\n",
    "print(\"val MAE: \",mean_absolute_error(y_newval, y_val))\n",
    "\n",
    "print(\"test RMSE: \",np.sqrt(mean_squared_error(y_new, y_test)))\n",
    "print(\"val RMSE: \",np.sqrt(mean_squared_error(y_newval, y_val)))"
   ]
  },
  {
   "cell_type": "code",
   "execution_count": 35,
   "metadata": {},
   "outputs": [
    {
     "name": "stdout",
     "output_type": "stream",
     "text": [
      "test R2 Score:  -4.7356487278558115e+29\n",
      "val R2 Score:  -4.860522381101735e+29\n",
      "test MSE:  95.63566444198575\n",
      "val MSE:  98.1574677863143\n",
      "test MAE:  7.432881766354606\n",
      "val MAE:  7.385269891509523\n",
      "test RMSE:  9.779348876177071\n",
      "val RMSE:  9.907445068548919\n"
     ]
    }
   ],
   "source": [
    "# SVM - SVR - gamma = 1000000\n",
    "from sklearn.svm import SVR\n",
    "\n",
    "svr_reg = SVR(gamma = 1000000, C = 1)\n",
    "svr_reg.fit(X_train, y_train)\n",
    "y_new = svr_reg.predict(X_test)\n",
    "y_newval= svr_reg.predict(X_val)\n",
    "\n",
    "print(\"test R2 Score: \",r2_score(y_new, y_test))\n",
    "print(\"val R2 Score: \",r2_score(y_newval, y_val))\n",
    "\n",
    "print(\"test MSE: \",mean_squared_error(y_new, y_test))\n",
    "print(\"val MSE: \",mean_squared_error(y_newval, y_val))\n",
    "\n",
    "print(\"test MAE: \",mean_absolute_error(y_new, y_test))\n",
    "print(\"val MAE: \",mean_absolute_error(y_newval, y_val))\n",
    "\n",
    "print(\"test RMSE: \",np.sqrt(mean_squared_error(y_new, y_test)))\n",
    "print(\"val RMSE: \",np.sqrt(mean_squared_error(y_newval, y_val)))"
   ]
  },
  {
   "cell_type": "code",
   "execution_count": 36,
   "metadata": {},
   "outputs": [
    {
     "name": "stdout",
     "output_type": "stream",
     "text": [
      "test R2 Score:  -14599870.832839217\n",
      "val R2 Score:  -10552965.847904604\n",
      "test MSE:  95.63427418655348\n",
      "val MSE:  98.15180385645648\n",
      "test MAE:  7.432694399372228\n",
      "val MAE:  7.385086709607792\n",
      "test RMSE:  9.779277794732772\n",
      "val RMSE:  9.90715922232284\n"
     ]
    }
   ],
   "source": [
    "# SVM - SVR - gamma = 1000\n",
    "from sklearn.svm import SVR\n",
    "\n",
    "svr_reg = SVR(gamma = 1000, C = 1)\n",
    "svr_reg.fit(X_train, y_train)\n",
    "y_new = svr_reg.predict(X_test)\n",
    "y_newval= svr_reg.predict(X_val)\n",
    "\n",
    "print(\"test R2 Score: \",r2_score(y_new, y_test))\n",
    "print(\"val R2 Score: \",r2_score(y_newval, y_val))\n",
    "\n",
    "print(\"test MSE: \",mean_squared_error(y_new, y_test))\n",
    "print(\"val MSE: \",mean_squared_error(y_newval, y_val))\n",
    "\n",
    "print(\"test MAE: \",mean_absolute_error(y_new, y_test))\n",
    "print(\"val MAE: \",mean_absolute_error(y_newval, y_val))\n",
    "\n",
    "print(\"test RMSE: \",np.sqrt(mean_squared_error(y_new, y_test)))\n",
    "print(\"val RMSE: \",np.sqrt(mean_squared_error(y_newval, y_val)))"
   ]
  },
  {
   "cell_type": "code",
   "execution_count": 37,
   "metadata": {},
   "outputs": [
    {
     "name": "stdout",
     "output_type": "stream",
     "text": [
      "test R2 Score:  0.3578297306865652\n",
      "val R2 Score:  0.38485900090728553\n",
      "test MSE:  23.752434447515526\n",
      "val MSE:  23.048948116530912\n",
      "test MAE:  3.666503026212095\n",
      "val MAE:  3.633249344688894\n",
      "test RMSE:  4.873646935049309\n",
      "val RMSE:  4.800932004989335\n"
     ]
    }
   ],
   "source": [
    "# SVM - SVR - gamma = 0.001\n",
    "from sklearn.svm import SVR\n",
    "\n",
    "svr_reg = SVR(gamma = 0.001, C = 1)\n",
    "svr_reg.fit(X_train, y_train)\n",
    "y_new = svr_reg.predict(X_test)\n",
    "y_newval= svr_reg.predict(X_val)\n",
    "\n",
    "print(\"test R2 Score: \",r2_score(y_new, y_test))\n",
    "print(\"val R2 Score: \",r2_score(y_newval, y_val))\n",
    "\n",
    "print(\"test MSE: \",mean_squared_error(y_new, y_test))\n",
    "print(\"val MSE: \",mean_squared_error(y_newval, y_val))\n",
    "\n",
    "print(\"test MAE: \",mean_absolute_error(y_new, y_test))\n",
    "print(\"val MAE: \",mean_absolute_error(y_newval, y_val))\n",
    "\n",
    "print(\"test RMSE: \",np.sqrt(mean_squared_error(y_new, y_test)))\n",
    "print(\"val RMSE: \",np.sqrt(mean_squared_error(y_newval, y_val)))"
   ]
  },
  {
   "cell_type": "code",
   "execution_count": 38,
   "metadata": {},
   "outputs": [
    {
     "name": "stdout",
     "output_type": "stream",
     "text": [
      "test R2 Score:  0.7614474618009348\n",
      "val R2 Score:  0.7854006338094071\n",
      "test MSE:  14.68025262256299\n",
      "val MSE:  13.584331648746216\n",
      "test MAE:  2.6985595712159047\n",
      "val MAE:  2.6839598040865584\n",
      "test RMSE:  3.8314817789678957\n",
      "val RMSE:  3.6856928315781032\n"
     ]
    }
   ],
   "source": [
    "# SVM - SVR - gamma = 0.01\n",
    "from sklearn.svm import SVR\n",
    "\n",
    "svr_reg = SVR(gamma = 0.01, C = 1)\n",
    "svr_reg.fit(X_train, y_train)\n",
    "y_new = svr_reg.predict(X_test)\n",
    "y_newval= svr_reg.predict(X_val)\n",
    "\n",
    "print(\"test R2 Score: \",r2_score(y_new, y_test))\n",
    "print(\"val R2 Score: \",r2_score(y_newval, y_val))\n",
    "\n",
    "print(\"test MSE: \",mean_squared_error(y_new, y_test))\n",
    "print(\"val MSE: \",mean_squared_error(y_newval, y_val))\n",
    "\n",
    "print(\"test MAE: \",mean_absolute_error(y_new, y_test))\n",
    "print(\"val MAE: \",mean_absolute_error(y_newval, y_val))\n",
    "\n",
    "print(\"test RMSE: \",np.sqrt(mean_squared_error(y_new, y_test)))\n",
    "print(\"val RMSE: \",np.sqrt(mean_squared_error(y_newval, y_val)))"
   ]
  },
  {
   "cell_type": "code",
   "execution_count": 39,
   "metadata": {},
   "outputs": [
    {
     "name": "stdout",
     "output_type": "stream",
     "text": [
      "test R2 Score:  0.6764834426367482\n",
      "val R2 Score:  0.6910985785876036\n",
      "test MSE:  18.00306469097356\n",
      "val MSE:  17.109901916580384\n",
      "test MAE:  2.6451426736111596\n",
      "val MAE:  2.552433085375952\n",
      "test RMSE:  4.243001849041968\n",
      "val RMSE:  4.136411719906564\n"
     ]
    }
   ],
   "source": [
    "# SVM - SVR - gamma = 0.1\n",
    "from sklearn.svm import SVR\n",
    "\n",
    "svr_reg = SVR(gamma = 0.1, C = 1)\n",
    "svr_reg.fit(X_train, y_train)\n",
    "y_new = svr_reg.predict(X_test)\n",
    "y_newval= svr_reg.predict(X_val)\n",
    "\n",
    "print(\"test R2 Score: \",r2_score(y_new, y_test))\n",
    "print(\"val R2 Score: \",r2_score(y_newval, y_val))\n",
    "\n",
    "print(\"test MSE: \",mean_squared_error(y_new, y_test))\n",
    "print(\"val MSE: \",mean_squared_error(y_newval, y_val))\n",
    "\n",
    "print(\"test MAE: \",mean_absolute_error(y_new, y_test))\n",
    "print(\"val MAE: \",mean_absolute_error(y_newval, y_val))\n",
    "\n",
    "print(\"test RMSE: \",np.sqrt(mean_squared_error(y_new, y_test)))\n",
    "print(\"val RMSE: \",np.sqrt(mean_squared_error(y_newval, y_val)))"
   ]
  },
  {
   "cell_type": "code",
   "execution_count": 40,
   "metadata": {},
   "outputs": [
    {
     "name": "stdout",
     "output_type": "stream",
     "text": [
      "test R2 Score:  0.7439946150011287\n",
      "val R2 Score:  0.7685121911488789\n",
      "test MSE:  15.355195220171646\n",
      "val MSE:  13.97721620937631\n",
      "test MAE:  2.5420749508952185\n",
      "val MAE:  2.4632299302089766\n",
      "test RMSE:  3.9185705582739794\n",
      "val RMSE:  3.7386115349653957\n"
     ]
    }
   ],
   "source": [
    "# SVM - SVR - default\n",
    "from sklearn.svm import SVR\n",
    "\n",
    "svr_reg = SVR()\n",
    "svr_reg.fit(X_train, y_train)\n",
    "y_new = svr_reg.predict(X_test)\n",
    "y_newval= svr_reg.predict(X_val)\n",
    "\n",
    "print(\"test R2 Score: \",r2_score(y_new, y_test))\n",
    "print(\"val R2 Score: \",r2_score(y_newval, y_val))\n",
    "\n",
    "print(\"test MSE: \",mean_squared_error(y_new, y_test))\n",
    "print(\"val MSE: \",mean_squared_error(y_newval, y_val))\n",
    "\n",
    "print(\"test MAE: \",mean_absolute_error(y_new, y_test))\n",
    "print(\"val MAE: \",mean_absolute_error(y_newval, y_val))\n",
    "\n",
    "print(\"test RMSE: \",np.sqrt(mean_squared_error(y_new, y_test)))\n",
    "print(\"val RMSE: \",np.sqrt(mean_squared_error(y_newval, y_val)))"
   ]
  },
  {
   "cell_type": "markdown",
   "metadata": {},
   "source": [
    "# XGBoost - XGBRegressor"
   ]
  },
  {
   "cell_type": "code",
   "execution_count": 91,
   "metadata": {},
   "outputs": [
    {
     "name": "stdout",
     "output_type": "stream",
     "text": [
      "Collecting xgboostNote: you may need to restart the kernel to use updated packages.\n",
      "\n",
      "  Downloading xgboost-1.2.1-py3-none-win_amd64.whl (86.5 MB)\n",
      "Requirement already satisfied: numpy in c:\\users\\mtapi\\anaconda3\\lib\\site-packages (from xgboost) (1.18.5)\n",
      "Requirement already satisfied: scipy in c:\\users\\mtapi\\anaconda3\\lib\\site-packages (from xgboost) (1.5.0)\n",
      "Installing collected packages: xgboost\n",
      "Successfully installed xgboost-1.2.1\n"
     ]
    }
   ],
   "source": [
    "pip install xgboost"
   ]
  },
  {
   "cell_type": "code",
   "execution_count": 41,
   "metadata": {},
   "outputs": [
    {
     "name": "stdout",
     "output_type": "stream",
     "text": [
      "test R2 Score:  0.9522768447799969\n",
      "val R2 Score:  0.9560666008454037\n",
      "test MSE:  4.12772280827457\n",
      "val MSE:  3.770129404138808\n",
      "test MAE:  1.3428121091562735\n",
      "val MAE:  1.3111716677304421\n",
      "test RMSE:  2.0316797996422986\n",
      "val RMSE:  1.941682106869919\n"
     ]
    }
   ],
   "source": [
    "#Xgboostregressor:\n",
    "\n",
    "import xgboost as xgb\n",
    "\n",
    "xboost = xgb.XGBRegressor(n_estimators = 200)\n",
    "xboost.fit(X_train, y_train)\n",
    "y_new = xboost.predict(X_test)\n",
    "y_newval= xboost.predict(X_val)\n",
    "\n",
    "print(\"test R2 Score: \",r2_score(y_new, y_test))\n",
    "print(\"val R2 Score: \",r2_score(y_newval, y_val))\n",
    "\n",
    "print(\"test MSE: \",mean_squared_error(y_new, y_test))\n",
    "print(\"val MSE: \",mean_squared_error(y_newval, y_val))\n",
    "\n",
    "print(\"test MAE: \",mean_absolute_error(y_new, y_test))\n",
    "print(\"val MAE: \",mean_absolute_error(y_newval, y_val))\n",
    "\n",
    "print(\"test RMSE: \",np.sqrt(mean_squared_error(y_new, y_test)))\n",
    "print(\"val RMSE: \",np.sqrt(mean_squared_error(y_newval, y_val)))"
   ]
  },
  {
   "cell_type": "markdown",
   "metadata": {},
   "source": [
    "# Final Check:"
   ]
  },
  {
   "cell_type": "code",
   "execution_count": 5,
   "metadata": {},
   "outputs": [],
   "source": [
    "from sklearn.model_selection import KFold\n",
    "from sklearn.model_selection import train_test_split\n",
    "from sklearn.preprocessing import StandardScaler\n",
    "from sklearn.linear_model import Lasso\n",
    "from sklearn.metrics import mean_squared_error\n",
    "from sklearn.metrics import mean_absolute_error\n",
    "from sklearn.metrics import r2_score\n",
    "import pandas as pd\n",
    "from sklearn.pipeline import make_pipeline\n",
    "from sklearn.model_selection import GridSearchCV\n",
    "from sklearn.model_selection import TimeSeriesSplit\n",
    "import math"
   ]
  },
  {
   "cell_type": "code",
   "execution_count": 6,
   "metadata": {},
   "outputs": [],
   "source": [
    "import pandas as pd\n",
    "import numpy as np\n",
    "from sklearn.linear_model import Lasso, Ridge, ElasticNet\n",
    "from sklearn.ensemble import RandomForestRegressor\n",
    "from sklearn.svm import SVR\n",
    "from sklearn.neighbors import KNeighborsRegressor\n",
    "from sklearn.model_selection import train_test_split\n",
    "from sklearn.preprocessing import StandardScaler\n",
    "from sklearn.metrics import mean_squared_error\n",
    "from sklearn.model_selection import train_test_split, KFold, GridSearchCV\n",
    "from sklearn.preprocessing import OneHotEncoder, StandardScaler\n",
    "from sklearn.metrics import make_scorer\n",
    "from sklearn.pipeline import make_pipeline, Pipeline\n",
    "from sklearn.compose import ColumnTransformer"
   ]
  },
  {
   "cell_type": "code",
   "execution_count": 40,
   "metadata": {},
   "outputs": [],
   "source": [
    "def MLpipe_KFold_RMSE(X, y, preprocessor, ML_algo, param_grid):\n",
    "    '''\n",
    "    This function splits the data to other/test (80/20) and then applies KFold with 4 folds to other.\n",
    "    The RMSE is minimized in cross-validation.\n",
    "    '''\n",
    "    \n",
    "    test_scores = []\n",
    "    best_models = []\n",
    "    r2_scores = []\n",
    "    \n",
    "    # split data to other/test 80/20, and the use timeseries with 4 folds (2 points)\n",
    "    splits = TimeSeriesSplit(n_splits=5)\n",
    "    for train_index, test_index in splits.split(X):\n",
    "        X_other, X_test = X.iloc[train_index, :], X.iloc[test_index,:]\n",
    "        y_other, y_test = y.iloc[train_index], y.iloc[test_index]\n",
    "\n",
    "        #X_other, X_test, y_other, y_test = TimeSeriesSplit(X, y, n_splits=4)\n",
    "        #kf = KFold(n_splits=4, shuffle=True, random_state=42+state)\n",
    "        kf = splits\n",
    "        # preprocess the data (1 point)\n",
    "        pipe = Pipeline(steps=[('preprocessor', preprocessor),\n",
    "                               ('regressor', ML_algo)])\n",
    "        # loop through the hyperparameter combinations or use GridSearchCV (2 points)\n",
    "        grid = GridSearchCV(pipe, param_grid=param_grid, \n",
    "                            scoring=make_scorer(mean_squared_error, greater_is_better=False, squared=False),\n",
    "                            cv=kf, return_train_score=True, n_jobs=-1)\n",
    "        # for each combination, calculate the train and validation scores using the evaluation metric\n",
    "        grid.fit(X_other, y_other)\n",
    "        # find which hyperparameter combination gives the best validation score (1 point)\n",
    "        best_param = grid.best_params_\n",
    "        print('best model parameters:',best_param)\n",
    "        print('validation RMSE score:',grid.best_score_)\n",
    "        # calculate the test score (1 point)\n",
    "        test_score = mean_squared_error(y_test, grid.predict(X_test), squared=False)\n",
    "        print('test score:',test_score)\n",
    "        # append the test score and the best model to the lists (1 point)\n",
    "        test_scores.append(test_score)\n",
    "        r2_scr = r2_score(y_test,grid.predict(X_test))\n",
    "        print('test R2 score: ', r2_scr)\n",
    "        #print('test R2 score: ', r2_scr)\n",
    "        r2_scores.append(r2_scr)\n",
    "        best_models.append(grid.best_estimator_)\n",
    "        print(\"-------\\n\")\n",
    "    return best_models, test_scores, r2_scores"
   ]
  },
  {
   "cell_type": "code",
   "execution_count": 41,
   "metadata": {
    "scrolled": false
   },
   "outputs": [
    {
     "name": "stdout",
     "output_type": "stream",
     "text": [
      "best model parameters: {'regressor__alpha': 0.01}\n",
      "validation RMSE score: -4.19860098112061\n",
      "test score: 3.9962427644493066\n",
      "test R2 score:  0.8411726599719045\n",
      "-------\n",
      "\n",
      "best model parameters: {'regressor__alpha': 0.01}\n",
      "validation RMSE score: -4.002539116950647\n",
      "test score: 3.8850960302138486\n",
      "test R2 score:  0.8438502475214693\n",
      "-------\n",
      "\n",
      "best model parameters: {'regressor__alpha': 0.1}\n",
      "validation RMSE score: -3.9319702475531386\n",
      "test score: 3.6693305814885036\n",
      "test R2 score:  0.8283878267043038\n",
      "-------\n",
      "\n",
      "best model parameters: {'regressor__alpha': 0.01}\n",
      "validation RMSE score: -3.835674737153912\n",
      "test score: 3.617053214757827\n",
      "test R2 score:  0.8405526306757566\n",
      "-------\n",
      "\n",
      "best model parameters: {'regressor__alpha': 0.1}\n",
      "validation RMSE score: -3.775704601192275\n",
      "test score: 3.4867029365388755\n",
      "test R2 score:  0.8231179237636632\n",
      "-------\n",
      "\n",
      "[3.9962427644493066, 3.8850960302138486, 3.6693305814885036, 3.617053214757827, 3.4867029365388755]\n",
      "__RSME: \n",
      "Mean:  3.730885105489672\n",
      "Std:  0.1846982874197462\n",
      "__R2: \n",
      "Mean:  0.8354162577274196\n",
      "Std:  0.008140006617216401\n"
     ]
    }
   ],
   "source": [
    "\n",
    "ML_algo = Lasso()\n",
    "param_grid = {'regressor__alpha': [1e-4, 1e-3, 1e-2, 1e-1, 1e0, 1e1, 1e2]}\n",
    "\n",
    "models, scores, r2_scores = MLpipe_KFold_RMSE(X,y,preprocessor,ML_algo,param_grid)\n",
    "print(scores)\n",
    "\n",
    "\n",
    "print(\"__RSME: \")\n",
    "print(\"Mean: \",np.mean(scores))\n",
    "print(\"Std: \",np.std(scores))\n",
    "lasso_rsme_m = np.mean(scores)\n",
    "lasso_rsme_s = np.std(scores)\n",
    "\n",
    "\n",
    "print(\"__R2: \")\n",
    "print(\"Mean: \",np.mean(r2_scores))\n",
    "print(\"Std: \",np.std(r2_scores))\n",
    "\n",
    "lasso_r2_m = np.mean(r2_scores)\n",
    "lasso_r2_s =np.std(r2_scores)"
   ]
  },
  {
   "cell_type": "code",
   "execution_count": 42,
   "metadata": {},
   "outputs": [
    {
     "name": "stdout",
     "output_type": "stream",
     "text": [
      "5\n"
     ]
    }
   ],
   "source": [
    "print(len(scores))"
   ]
  },
  {
   "cell_type": "code",
   "execution_count": 43,
   "metadata": {},
   "outputs": [
    {
     "name": "stdout",
     "output_type": "stream",
     "text": [
      "best model parameters: {'regressor__alpha': 1.0}\n",
      "validation RMSE score: -4.206088448597254\n",
      "test score: 4.001488900516765\n",
      "test R2 score:  0.8407553796390879\n",
      "-------\n",
      "\n",
      "best model parameters: {'regressor__alpha': 1.0}\n",
      "validation RMSE score: -4.009341627817761\n",
      "test score: 3.8970042479406253\n",
      "test R2 score:  0.8428915505101993\n",
      "-------\n",
      "\n",
      "best model parameters: {'regressor__alpha': 10.0}\n",
      "validation RMSE score: -3.941069875158239\n",
      "test score: 3.663758973805659\n",
      "test R2 score:  0.8289085918717104\n",
      "-------\n",
      "\n",
      "best model parameters: {'regressor__alpha': 10.0}\n",
      "validation RMSE score: -3.8354240827219357\n",
      "test score: 3.6134950140846738\n",
      "test R2 score:  0.840866182424058\n",
      "-------\n",
      "\n",
      "best model parameters: {'regressor__alpha': 10.0}\n",
      "validation RMSE score: -3.7732900632683184\n",
      "test score: 3.4393927709545773\n",
      "test R2 score:  0.8278854916842093\n",
      "-------\n",
      "\n",
      "[4.001488900516765, 3.8970042479406253, 3.663758973805659, 3.6134950140846738, 3.4393927709545773]\n",
      "__RSME: \n",
      "Mean:  3.72302798146046\n",
      "Std:  0.20187493335692078\n",
      "__R2: \n",
      "Mean:  0.8362614392258528\n",
      "Std:  0.006474231961176934\n"
     ]
    }
   ],
   "source": [
    "ML_algo = Ridge()\n",
    "param_grid = {'regressor__alpha': [1e-4, 1e-3, 1e-2, 1e-1, 1e0, 1e1, 1e2]}\n",
    "models, scores, r2_scores = MLpipe_KFold_RMSE(X,y,preprocessor,ML_algo,param_grid)\n",
    "print(scores)\n",
    "\n",
    "\n",
    "print(\"__RSME: \")\n",
    "print(\"Mean: \",np.mean(scores))\n",
    "print(\"Std: \",np.std(scores))\n",
    "ridge_rsme_m = np.mean(scores)\n",
    "ridge_rsme_s = np.std(scores)\n",
    "\n",
    "\n",
    "print(\"__R2: \")\n",
    "print(\"Mean: \",np.mean(r2_scores))\n",
    "print(\"Std: \",np.std(r2_scores))\n",
    "\n",
    "ridge_r2_m = np.mean(r2_scores)\n",
    "ridge_r2_s =np.std(r2_scores)"
   ]
  },
  {
   "cell_type": "code",
   "execution_count": 44,
   "metadata": {},
   "outputs": [
    {
     "name": "stdout",
     "output_type": "stream",
     "text": [
      "best model parameters: {'regressor__alpha': 0.01, 'regressor__l1_ratio': 0.9, 'regressor__max_iter': 100000}\n",
      "validation RMSE score: -4.199131058071388\n",
      "test score: 3.9962999436925735\n",
      "test R2 score:  0.8411681148565953\n",
      "-------\n",
      "\n",
      "best model parameters: {'regressor__alpha': 0.01, 'regressor__l1_ratio': 0.9, 'regressor__max_iter': 100000}\n",
      "validation RMSE score: -4.002910533515637\n",
      "test score: 3.884051256931472\n",
      "test R2 score:  0.8439342192701013\n",
      "-------\n",
      "\n",
      "best model parameters: {'regressor__alpha': 0.01, 'regressor__l1_ratio': 0.9, 'regressor__max_iter': 100000}\n",
      "validation RMSE score: -3.932796951725332\n",
      "test score: 3.6732105892126534\n",
      "test R2 score:  0.8280247040110845\n",
      "-------\n",
      "\n",
      "best model parameters: {'regressor__alpha': 0.01, 'regressor__l1_ratio': 0.1, 'regressor__max_iter': 100000}\n",
      "validation RMSE score: -3.8326422445246733\n",
      "test score: 3.6084897035944734\n",
      "test R2 score:  0.8413067323675197\n",
      "-------\n",
      "\n",
      "best model parameters: {'regressor__alpha': 0.01, 'regressor__l1_ratio': 0.1, 'regressor__max_iter': 100000}\n",
      "validation RMSE score: -3.772248136870231\n",
      "test score: 3.4349062777957187\n",
      "test R2 score:  0.8283342260835941\n",
      "-------\n",
      "\n",
      "[3.9962999436925735, 3.884051256931472, 3.6732105892126534, 3.6084897035944734, 3.4349062777957187]\n",
      "__RSME: \n",
      "Mean:  3.719391554245378\n",
      "Std:  0.19957697680879974\n",
      "__R2: \n",
      "Mean:  0.8365535993177791\n",
      "Std:  0.006908831013167457\n"
     ]
    }
   ],
   "source": [
    "ML_algo = ElasticNet()\n",
    "param_grid = {'regressor__alpha': [1e-4, 1e-3, 1e-2, 1e-1, 1e0, 1e1, 1e2], \n",
    "              'regressor__l1_ratio': [0.1, 0.25, 0.5, 0.75, 0.9], \n",
    "              'regressor__max_iter': [100000]}\n",
    "models, scores, r2_scores = MLpipe_KFold_RMSE(X,y,preprocessor,ML_algo,param_grid)\n",
    "print(scores)\n",
    "\n",
    "\n",
    "print(\"__RSME: \")\n",
    "print(\"Mean: \",np.mean(scores))\n",
    "print(\"Std: \",np.std(scores))\n",
    "Elas_rsme_m = np.mean(scores)\n",
    "Elas_rsme_s = np.std(scores)\n",
    "\n",
    "\n",
    "print(\"__R2: \")\n",
    "print(\"Mean: \",np.mean(r2_scores))\n",
    "print(\"Std: \",np.std(r2_scores))\n",
    "\n",
    "Elas_r2_m = np.mean(r2_scores)\n",
    "Elas_r2_s =np.std(r2_scores)"
   ]
  },
  {
   "cell_type": "code",
   "execution_count": 45,
   "metadata": {},
   "outputs": [
    {
     "name": "stdout",
     "output_type": "stream",
     "text": [
      "best model parameters: {'regressor__max_depth': None, 'regressor__max_features': None}\n",
      "validation RMSE score: -2.731428059176229\n",
      "test score: 2.270640027216273\n",
      "test R2 score:  0.9487235304894495\n",
      "-------\n",
      "\n",
      "best model parameters: {'regressor__max_depth': 10, 'regressor__max_features': None}\n",
      "validation RMSE score: -2.253309865038953\n",
      "test score: 2.4455911778866692\n",
      "test R2 score:  0.9381263833394342\n",
      "-------\n",
      "\n",
      "best model parameters: {'regressor__max_depth': None, 'regressor__max_features': None}\n",
      "validation RMSE score: -2.2121602458062704\n",
      "test score: 2.532512984447157\n",
      "test R2 score:  0.9182518803845343\n",
      "-------\n",
      "\n",
      "best model parameters: {'regressor__max_depth': 20, 'regressor__max_features': 7}\n",
      "validation RMSE score: -2.227730579001639\n",
      "test score: 2.373003268328965\n",
      "test R2 score:  0.9313715429952507\n",
      "-------\n",
      "\n",
      "best model parameters: {'regressor__max_depth': None, 'regressor__max_features': 7}\n",
      "validation RMSE score: -2.281494114878103\n",
      "test score: 2.2170447570849885\n",
      "test R2 score:  0.9284840596377457\n",
      "-------\n",
      "\n",
      "[2.270640027216273, 2.4455911778866692, 2.532512984447157, 2.373003268328965, 2.2170447570849885]\n",
      "__RSME: \n",
      "Mean:  2.3677584429928102\n",
      "Std:  0.1143469313506597\n",
      "__R2: \n",
      "Mean:  0.932991479369283\n",
      "Std:  0.010139639795905715\n"
     ]
    }
   ],
   "source": [
    "ML_algo = RandomForestRegressor()\n",
    "param_grid = {'regressor__max_features': [3, 5, 7, None], \n",
    "              'regressor__max_depth': [1, 3, 5, 10, 20, None]}\n",
    "models, scores, r2_scores = MLpipe_KFold_RMSE(X,y,preprocessor,ML_algo,param_grid)\n",
    "print(scores)\n",
    "\n",
    "\n",
    "print(\"__RSME: \")\n",
    "print(\"Mean: \",np.mean(scores))\n",
    "print(\"Std: \",np.std(scores))\n",
    "randF_rsme_m = np.mean(scores)\n",
    "randF_rsme_s = np.std(scores)\n",
    "\n",
    "\n",
    "print(\"__R2: \")\n",
    "print(\"Mean: \",np.mean(r2_scores))\n",
    "print(\"Std: \",np.std(r2_scores))\n",
    "\n",
    "randF_r2_m = np.mean(r2_scores)\n",
    "randF_r2_s =np.std(r2_scores)"
   ]
  },
  {
   "cell_type": "code",
   "execution_count": 46,
   "metadata": {},
   "outputs": [
    {
     "name": "stdout",
     "output_type": "stream",
     "text": [
      "best model parameters: {'regressor__C': 10.0, 'regressor__gamma': 'scale'}\n",
      "validation RMSE score: -3.6993608501571584\n",
      "test score: 3.4145494267121745\n",
      "test R2 score:  0.8840453033729481\n",
      "-------\n",
      "\n",
      "best model parameters: {'regressor__C': 10.0, 'regressor__gamma': 'scale'}\n",
      "validation RMSE score: -3.1771853672793924\n",
      "test score: 2.8352094542899726\n",
      "test R2 score:  0.916841225418179\n",
      "-------\n",
      "\n",
      "best model parameters: {'regressor__C': 10.0, 'regressor__gamma': 'scale'}\n",
      "validation RMSE score: -3.026194691766467\n",
      "test score: 2.6416615340497995\n",
      "test R2 score:  0.9110535222131428\n",
      "-------\n",
      "\n",
      "best model parameters: {'regressor__C': 10.0, 'regressor__gamma': 'scale'}\n",
      "validation RMSE score: -2.8717263331705807\n",
      "test score: 2.6097556712511643\n",
      "test R2 score:  0.9169944250871037\n",
      "-------\n",
      "\n",
      "best model parameters: {'regressor__C': 10.0, 'regressor__gamma': 'scale'}\n",
      "validation RMSE score: -2.814136859295716\n",
      "test score: 2.720313590020962\n",
      "test R2 score:  0.8923307037013559\n",
      "-------\n",
      "\n",
      "[3.4145494267121745, 2.8352094542899726, 2.6416615340497995, 2.6097556712511643, 2.720313590020962]\n",
      "__RSME: \n",
      "Mean:  2.8442979352648146\n",
      "Std:  0.29553783735959654\n",
      "__R2: \n",
      "Mean:  0.9042530359585459\n",
      "Std:  0.013546561089795277\n"
     ]
    }
   ],
   "source": [
    "ML_algo = SVR()\n",
    "param_grid = {'regressor__C': np.logspace(-1, 1, 5), \n",
    "              'regressor__gamma': list(np.logspace(-1, 2, 5)) + ['scale']}\n",
    "\n",
    "models, scores, r2_scores = MLpipe_KFold_RMSE(X,y,preprocessor,ML_algo,param_grid)\n",
    "print(scores)\n",
    "\n",
    "\n",
    "print(\"__RSME: \")\n",
    "print(\"Mean: \",np.mean(scores))\n",
    "print(\"Std: \",np.std(scores))\n",
    "svr_rsme_m = np.mean(scores)\n",
    "svr_rsme_s = np.std(scores)\n",
    "\n",
    "\n",
    "print(\"__R2: \")\n",
    "print(\"Mean: \",np.mean(r2_scores))\n",
    "print(\"Std: \",np.std(r2_scores))\n",
    "\n",
    "svr_r2_m = np.mean(r2_scores)\n",
    "svr_r2_s =np.std(r2_scores)"
   ]
  },
  {
   "cell_type": "code",
   "execution_count": 48,
   "metadata": {},
   "outputs": [
    {
     "name": "stdout",
     "output_type": "stream",
     "text": [
      "best model parameters: {'regressor__n_neighbors': 5, 'regressor__weights': 'distance'}\n",
      "validation RMSE score: -3.568194749732803\n",
      "test score: 3.219881567934645\n",
      "test R2 score:  0.8968898704165864\n",
      "-------\n",
      "\n",
      "best model parameters: {'regressor__n_neighbors': 5, 'regressor__weights': 'distance'}\n",
      "validation RMSE score: -3.0235200244512535\n",
      "test score: 3.1114192066996704\n",
      "test R2 score:  0.89984910361807\n",
      "-------\n",
      "\n",
      "best model parameters: {'regressor__n_neighbors': 3, 'regressor__weights': 'distance'}\n",
      "validation RMSE score: -2.9893854108972717\n",
      "test score: 2.895596474801715\n",
      "test R2 score:  0.8931313092745731\n",
      "-------\n",
      "\n",
      "best model parameters: {'regressor__n_neighbors': 3, 'regressor__weights': 'distance'}\n",
      "validation RMSE score: -2.88930391041121\n",
      "test score: 3.05532480542304\n",
      "test R2 score:  0.8862314209416696\n",
      "-------\n",
      "\n",
      "best model parameters: {'regressor__n_neighbors': 3, 'regressor__weights': 'distance'}\n",
      "validation RMSE score: -2.93316286665033\n",
      "test score: 3.2245042682815592\n",
      "test R2 score:  0.8487205821468008\n",
      "-------\n",
      "\n",
      "[3.219881567934645, 3.1114192066996704, 2.895596474801715, 3.05532480542304, 3.2245042682815592]\n",
      "__RSME: \n",
      "Mean:  3.101345264628126\n",
      "Std:  0.12146680770632105\n",
      "__R2: \n",
      "Mean:  0.88496445727954\n",
      "Std:  0.01868523121708628\n"
     ]
    }
   ],
   "source": [
    "ML_algo = KNeighborsRegressor()\n",
    "param_grid = {'regressor__n_neighbors': [1, 2, 3, 5, 10, 30, 80], \n",
    "              'regressor__weights': ['uniform', 'distance']}\n",
    "\n",
    "models, scores, r2_scores = MLpipe_KFold_RMSE(X,y,preprocessor,ML_algo,param_grid)\n",
    "print(scores)\n",
    "\n",
    "\n",
    "print(\"__RSME: \")\n",
    "print(\"Mean: \",np.mean(scores))\n",
    "print(\"Std: \",np.std(scores))\n",
    "kn_rsme_m = np.mean(scores)\n",
    "kn_rsme_s = np.std(scores)\n",
    "\n",
    "\n",
    "print(\"__R2: \")\n",
    "print(\"Mean: \",np.mean(r2_scores))\n",
    "print(\"Std: \",np.std(r2_scores))\n",
    "\n",
    "kn_r2_m = np.mean(r2_scores)\n",
    "kn_r2_s =np.std(r2_scores)"
   ]
  },
  {
   "cell_type": "code",
   "execution_count": 49,
   "metadata": {},
   "outputs": [
    {
     "name": "stdout",
     "output_type": "stream",
     "text": [
      "best model parameters: {'regressor__colsample_bytree': 0.9, 'regressor__learning_rate': 0.03, 'regressor__missing': nan, 'regressor__n_estimators': 10000, 'regressor__seed': 0, 'regressor__subsample': 0.66}\n",
      "validation RMSE score: -2.543882712512928\n",
      "test score: 2.2782280068411254\n",
      "test R2 score:  0.9483802484904209\n",
      "-------\n",
      "\n",
      "best model parameters: {'regressor__colsample_bytree': 0.9, 'regressor__learning_rate': 0.02, 'regressor__missing': nan, 'regressor__n_estimators': 10000, 'regressor__seed': 0, 'regressor__subsample': 0.8}\n",
      "validation RMSE score: -2.1291338977401493\n",
      "test score: 2.220855069216989\n",
      "test R2 score:  0.948975563183822\n",
      "-------\n",
      "\n",
      "best model parameters: {'regressor__colsample_bytree': 0.9, 'regressor__learning_rate': 0.02, 'regressor__missing': nan, 'regressor__n_estimators': 10000, 'regressor__seed': 0, 'regressor__subsample': 0.66}\n",
      "validation RMSE score: -2.0916119838828378\n",
      "test score: 2.3163598190884764\n",
      "test R2 score:  0.9316109681125788\n",
      "-------\n",
      "\n",
      "best model parameters: {'regressor__colsample_bytree': 0.9, 'regressor__learning_rate': 0.02, 'regressor__missing': nan, 'regressor__n_estimators': 10000, 'regressor__seed': 0, 'regressor__subsample': 0.8}\n",
      "validation RMSE score: -2.121138375684068\n",
      "test score: 2.149072605432059\n",
      "test R2 score:  0.9437127879507634\n",
      "-------\n",
      "\n",
      "best model parameters: {'regressor__colsample_bytree': 0.9, 'regressor__learning_rate': 0.02, 'regressor__missing': nan, 'regressor__n_estimators': 10000, 'regressor__seed': 0, 'regressor__subsample': 0.66}\n",
      "validation RMSE score: -2.1346200795512535\n",
      "test score: 2.123225849776909\n",
      "test R2 score:  0.9344086879622141\n",
      "-------\n",
      "\n",
      "[2.2782280068411254, 2.220855069216989, 2.3163598190884764, 2.149072605432059, 2.123225849776909]\n",
      "__RSME: \n",
      "Mean:  2.2175482700711115\n",
      "Std:  0.07354226432765941\n",
      "__R2: \n",
      "Mean:  0.9414176511399599\n",
      "Std:  0.007157709775259526\n"
     ]
    }
   ],
   "source": [
    "import xgboost as xgb\n",
    "\n",
    "ML_algo = xgb.XGBRegressor() # initialize \n",
    "param_grid = {\"regressor__learning_rate\": [0.02, 0.03],\n",
    "              \"regressor__n_estimators\": [10000],\n",
    "              \"regressor__seed\": [0],\n",
    "              \"regressor__missing\": [np.nan], \n",
    "              \"regressor__colsample_bytree\": [0.8, 0.9],              \n",
    "              \"regressor__subsample\": [0.8 ,0.66]}\n",
    "models, scores, r2_scores = MLpipe_KFold_RMSE(X,y,preprocessor,ML_algo,param_grid)\n",
    "print(scores)\n",
    "\n",
    "\n",
    "print(\"__RSME: \")\n",
    "print(\"Mean: \",np.mean(scores))\n",
    "print(\"Std: \",np.std(scores))\n",
    "xg_rsme_m = np.mean(scores)\n",
    "xg_rsme_s = np.std(scores)\n",
    "\n",
    "\n",
    "print(\"__R2: \")\n",
    "print(\"Mean: \",np.mean(r2_scores))\n",
    "print(\"Std: \",np.std(r2_scores))\n",
    "\n",
    "xg_r2_m = np.mean(r2_scores)\n",
    "xg_r2_s =np.std(r2_scores)"
   ]
  },
  {
   "cell_type": "code",
   "execution_count": 50,
   "metadata": {},
   "outputs": [],
   "source": [
    "#plot\n",
    "plt_models = ['LinearRegress-Lasso','LinearRegress-Ridge','LinearRegress-ElasticNet',\n",
    "              'RandomForest','SVR','KNeighbors','XGboost']\n",
    "avg_RSME_mean = [lasso_rsme_m, ridge_rsme_m, Elas_rsme_m, randF_rsme_m, svr_rsme_m, kn_rsme_m, xg_rsme_m]\n",
    "\n",
    "avg_RSME_std = [lasso_rsme_s, ridge_rsme_s, Elas_rsme_s, randF_rsme_s, svr_rsme_s, kn_rsme_s, xg_rsme_s]\n",
    "\n",
    "avg_R2_mean = [lasso_r2_m, ridge_r2_m, Elas_r2_m, randF_r2_m, svr_r2_m, kn_r2_m, xg_r2_m]\n",
    "\n",
    "avg_R2_std = [lasso_r2_s, ridge_r2_s, Elas_r2_s, randF_r2_s, svr_r2_s, kn_r2_s, xg_r2_s]"
   ]
  },
  {
   "cell_type": "code",
   "execution_count": 51,
   "metadata": {},
   "outputs": [
    {
     "data": {
      "image/png": "[encoded data removed]",
      "text/plain": [
       "<Figure size 720x504 with 1 Axes>"
      ]
     },
     "metadata": {
      "needs_background": "light"
     },
     "output_type": "display_data"
    }
   ],
   "source": [
    "import matplotlib.pyplot as plt\n",
    "\n",
    "plt.errorbar(plt_models,avg_RSME_mean,yerr=avg_RSME_std,fmt='o',label='RSME')\n",
    "\n",
    "\n",
    "plt.ylabel('Test Scores', fontsize=12)\n",
    "plt.xlabel('Models', fontsize=12)\n",
    "plt.xticks(rotation=45, fontsize=12)\n",
    "plt.title('RSME Across Models', fontsize=15)\n",
    "fig = plt.gcf()\n",
    "fig.set_size_inches(10, 7, forward=True)   \n",
    "\n",
    "plt.show()\n"
   ]
  },
  {
   "cell_type": "code",
   "execution_count": 52,
   "metadata": {},
   "outputs": [
    {
     "data": {
      "image/png": "[encoded data removed]",
      "text/plain": [
       "<Figure size 720x504 with 1 Axes>"
      ]
     },
     "metadata": {
      "needs_background": "light"
     },
     "output_type": "display_data"
    }
   ],
   "source": [
    "plt.errorbar(plt_models,avg_R2_mean,yerr=avg_R2_std,fmt='o',label='R2 Score')\n",
    "plt.ylabel('Test Scores', fontsize=12)\n",
    "plt.xlabel('Models', fontsize=12)\n",
    "plt.xticks(rotation=45, fontsize=12)\n",
    "\n",
    "plt.title('R2 Across Models', fontsize=15)\n",
    "fig = plt.gcf()\n",
    "fig.set_size_inches(10, 7, forward=True)   \n",
    "plt.show()"
   ]
  },
  {
   "cell_type": "markdown",
   "metadata": {},
   "source": [
    "# Trash bin:"
   ]
  },
  {
   "cell_type": "markdown",
   "metadata": {},
   "source": [
    "def MLpipe_KFold_RMSE(X,y,preprocessor,ML_algo,param_grid):\n",
    "    '''\n",
    "    This function splits the data to other/test (80/20) and then applies KFold with 4 folds to other.\n",
    "    The RMSE is minimized in cross-validation.\n",
    "    '''    \n",
    "    test_scores = []\n",
    "    best_models = []\n",
    "    r2_scores = []\n",
    "    # loop through 10 random states (2 points)[x]\n",
    "    random_states = [1,45,78,22,67,12,37,23,47,17]\n",
    "    for random_state in random_states:\n",
    "        global random_st\n",
    "        random_st = random_state\n",
    "        print('Random State:',random_state)\n",
    "        \n",
    "        # split data to other/test 80/20, [x]\n",
    "        #and the use KFold with 4 folds (2 points) [x]\n",
    "        X_other, X_test, y_other, y_test = train_test_split(X, y, test_size=0.2, random_state = random_state)\n",
    "        #kf = KFold(n_splits=4,shuffle=True,random_state=random_state)\n",
    "        \n",
    "        n = 5\n",
    "        kf = TimeSeriesSplit(n_splits=n)\n",
    "        \n",
    "        # preprocess the data (1 point)[x]\n",
    "        pipe = make_pipeline(preprocessor,ML_algo)\n",
    "        \n",
    "        # loop through the hyperparameter combinations or use GridSearchCV (2 points)[]\n",
    "        grid = GridSearchCV(pipe, param_grid=param_grid,\n",
    "                            scoring = 'neg_root_mean_squared_error',\n",
    "                        cv=kf, return_train_score = True)\n",
    "        grid.fit(X_other, y_other)\n",
    "        \n",
    "        # for each combination, calculate the train and validation scores using the evaluation metric[x]\n",
    "             # GridSearchCV loops through all parameter combinations and collects the results \n",
    "            # save results into a data frame.\n",
    "        results = pd.DataFrame(grid.cv_results_)\n",
    "    \n",
    "        # find which hyperparameter combination gives the best validation score (1 point)[x]\n",
    "        print('best model parameters:',grid.best_params_)\n",
    "        print('validation RMSE score:',grid.best_score_)\n",
    "        \n",
    "        \n",
    "        \n",
    "        # calculate the test score (1 point)[]\n",
    "        test_RMSE = math.sqrt(mean_squared_error(y_test,grid.predict(X_test)))\n",
    "        print('test score:',test_RMSE)\n",
    "        r2_scr = r2_score(y_test,grid.predict(X_test))\n",
    "        print('test R2 score: ', r2_scr)\n",
    "        # append the test score and the best model to the lists (1 point)[]     \n",
    "        test_scores.append(test_RMSE)\n",
    "        best_models.append(grid.best_score_)\n",
    "        r2_scores.append(r2_scr)\n",
    "        #print(sorted(x for x in results))\n",
    "        \n",
    "        print(\"-------\\n\")\n",
    "    return best_models, test_scores, r2_scores\n",
    "\n"
   ]
  },
  {
   "cell_type": "markdown",
   "metadata": {},
   "source": [
    "preprocessor = ColumnTransformer(\n",
    "    transformers=[\n",
    "        ('num', numeric_transformer, num_ftrs),\n",
    "        ('cat', categorical_transformer, cat_ftrs)])  \n",
    "clf = Pipeline(steps=[('preprocessor', preprocessor)]) # if you had a more complex dataset, you'd have a ColumnTransformer here\n"
   ]
  }
 ],
 "metadata": {
  "@webio": {
   "lastCommId": null,
   "lastKernelId": null
  },
  "kernelspec": {
   "display_name": "Python 3",
   "language": "python",
   "name": "python3"
  },
  "language_info": {
   "codemirror_mode": {
    "name": "ipython",
    "version": 3
   },
   "file_extension": ".py",
   "mimetype": "text/x-python",
   "name": "python",
   "nbconvert_exporter": "python",
   "pygments_lexer": "ipython3",
   "version": "3.8.3"
  }
 },
 "nbformat": 4,
 "nbformat_minor": 4
}
